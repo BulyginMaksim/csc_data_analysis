{
 "cells": [
  {
   "cell_type": "markdown",
   "metadata": {},
   "source": [
    "# Лабораторная работа 3. Градиентный бустинг.\n",
    "## Булыгин Максим"
   ]
  },
  {
   "cell_type": "markdown",
   "metadata": {},
   "source": [
    "Подключаем библиотеки."
   ]
  },
  {
   "cell_type": "code",
   "execution_count": 7,
   "metadata": {},
   "outputs": [],
   "source": [
    "import numpy as np\n",
    "import pandas as pd\n",
    "from scipy import stats\n",
    "from sklearn.metrics import accuracy_score, classification_report, confusion_matrix\n",
    "from sklearn.model_selection import GridSearchCV, train_test_split\n",
    "from sklearn.calibration import CalibratedClassifierCV\n",
    "from sklearn.ensemble import GradientBoostingClassifier\n",
    "from sklearn.metrics import classification_report"
   ]
  },
  {
   "cell_type": "markdown",
   "metadata": {},
   "source": [
    "Импортируем данные."
   ]
  },
  {
   "cell_type": "code",
   "execution_count": 8,
   "metadata": {},
   "outputs": [],
   "source": [
    "df = pd.read_csv('winequality-red.csv', sep = \";\")"
   ]
  },
  {
   "cell_type": "code",
   "execution_count": 9,
   "metadata": {},
   "outputs": [
    {
     "data": {
      "text/html": [
       "<div>\n",
       "<style scoped>\n",
       "    .dataframe tbody tr th:only-of-type {\n",
       "        vertical-align: middle;\n",
       "    }\n",
       "\n",
       "    .dataframe tbody tr th {\n",
       "        vertical-align: top;\n",
       "    }\n",
       "\n",
       "    .dataframe thead th {\n",
       "        text-align: right;\n",
       "    }\n",
       "</style>\n",
       "<table border=\"1\" class=\"dataframe\">\n",
       "  <thead>\n",
       "    <tr style=\"text-align: right;\">\n",
       "      <th></th>\n",
       "      <th>fixed acidity</th>\n",
       "      <th>volatile acidity</th>\n",
       "      <th>citric acid</th>\n",
       "      <th>residual sugar</th>\n",
       "      <th>chlorides</th>\n",
       "      <th>free sulfur dioxide</th>\n",
       "      <th>total sulfur dioxide</th>\n",
       "      <th>density</th>\n",
       "      <th>pH</th>\n",
       "      <th>sulphates</th>\n",
       "      <th>alcohol</th>\n",
       "      <th>quality</th>\n",
       "    </tr>\n",
       "  </thead>\n",
       "  <tbody>\n",
       "    <tr>\n",
       "      <td>0</td>\n",
       "      <td>7.4</td>\n",
       "      <td>0.700</td>\n",
       "      <td>0.00</td>\n",
       "      <td>1.9</td>\n",
       "      <td>0.076</td>\n",
       "      <td>11.0</td>\n",
       "      <td>34.0</td>\n",
       "      <td>0.99780</td>\n",
       "      <td>3.51</td>\n",
       "      <td>0.56</td>\n",
       "      <td>9.4</td>\n",
       "      <td>5</td>\n",
       "    </tr>\n",
       "    <tr>\n",
       "      <td>1</td>\n",
       "      <td>7.8</td>\n",
       "      <td>0.880</td>\n",
       "      <td>0.00</td>\n",
       "      <td>2.6</td>\n",
       "      <td>0.098</td>\n",
       "      <td>25.0</td>\n",
       "      <td>67.0</td>\n",
       "      <td>0.99680</td>\n",
       "      <td>3.20</td>\n",
       "      <td>0.68</td>\n",
       "      <td>9.8</td>\n",
       "      <td>5</td>\n",
       "    </tr>\n",
       "    <tr>\n",
       "      <td>2</td>\n",
       "      <td>7.8</td>\n",
       "      <td>0.760</td>\n",
       "      <td>0.04</td>\n",
       "      <td>2.3</td>\n",
       "      <td>0.092</td>\n",
       "      <td>15.0</td>\n",
       "      <td>54.0</td>\n",
       "      <td>0.99700</td>\n",
       "      <td>3.26</td>\n",
       "      <td>0.65</td>\n",
       "      <td>9.8</td>\n",
       "      <td>5</td>\n",
       "    </tr>\n",
       "    <tr>\n",
       "      <td>3</td>\n",
       "      <td>11.2</td>\n",
       "      <td>0.280</td>\n",
       "      <td>0.56</td>\n",
       "      <td>1.9</td>\n",
       "      <td>0.075</td>\n",
       "      <td>17.0</td>\n",
       "      <td>60.0</td>\n",
       "      <td>0.99800</td>\n",
       "      <td>3.16</td>\n",
       "      <td>0.58</td>\n",
       "      <td>9.8</td>\n",
       "      <td>6</td>\n",
       "    </tr>\n",
       "    <tr>\n",
       "      <td>4</td>\n",
       "      <td>7.4</td>\n",
       "      <td>0.700</td>\n",
       "      <td>0.00</td>\n",
       "      <td>1.9</td>\n",
       "      <td>0.076</td>\n",
       "      <td>11.0</td>\n",
       "      <td>34.0</td>\n",
       "      <td>0.99780</td>\n",
       "      <td>3.51</td>\n",
       "      <td>0.56</td>\n",
       "      <td>9.4</td>\n",
       "      <td>5</td>\n",
       "    </tr>\n",
       "    <tr>\n",
       "      <td>...</td>\n",
       "      <td>...</td>\n",
       "      <td>...</td>\n",
       "      <td>...</td>\n",
       "      <td>...</td>\n",
       "      <td>...</td>\n",
       "      <td>...</td>\n",
       "      <td>...</td>\n",
       "      <td>...</td>\n",
       "      <td>...</td>\n",
       "      <td>...</td>\n",
       "      <td>...</td>\n",
       "      <td>...</td>\n",
       "    </tr>\n",
       "    <tr>\n",
       "      <td>1594</td>\n",
       "      <td>6.2</td>\n",
       "      <td>0.600</td>\n",
       "      <td>0.08</td>\n",
       "      <td>2.0</td>\n",
       "      <td>0.090</td>\n",
       "      <td>32.0</td>\n",
       "      <td>44.0</td>\n",
       "      <td>0.99490</td>\n",
       "      <td>3.45</td>\n",
       "      <td>0.58</td>\n",
       "      <td>10.5</td>\n",
       "      <td>5</td>\n",
       "    </tr>\n",
       "    <tr>\n",
       "      <td>1595</td>\n",
       "      <td>5.9</td>\n",
       "      <td>0.550</td>\n",
       "      <td>0.10</td>\n",
       "      <td>2.2</td>\n",
       "      <td>0.062</td>\n",
       "      <td>39.0</td>\n",
       "      <td>51.0</td>\n",
       "      <td>0.99512</td>\n",
       "      <td>3.52</td>\n",
       "      <td>0.76</td>\n",
       "      <td>11.2</td>\n",
       "      <td>6</td>\n",
       "    </tr>\n",
       "    <tr>\n",
       "      <td>1596</td>\n",
       "      <td>6.3</td>\n",
       "      <td>0.510</td>\n",
       "      <td>0.13</td>\n",
       "      <td>2.3</td>\n",
       "      <td>0.076</td>\n",
       "      <td>29.0</td>\n",
       "      <td>40.0</td>\n",
       "      <td>0.99574</td>\n",
       "      <td>3.42</td>\n",
       "      <td>0.75</td>\n",
       "      <td>11.0</td>\n",
       "      <td>6</td>\n",
       "    </tr>\n",
       "    <tr>\n",
       "      <td>1597</td>\n",
       "      <td>5.9</td>\n",
       "      <td>0.645</td>\n",
       "      <td>0.12</td>\n",
       "      <td>2.0</td>\n",
       "      <td>0.075</td>\n",
       "      <td>32.0</td>\n",
       "      <td>44.0</td>\n",
       "      <td>0.99547</td>\n",
       "      <td>3.57</td>\n",
       "      <td>0.71</td>\n",
       "      <td>10.2</td>\n",
       "      <td>5</td>\n",
       "    </tr>\n",
       "    <tr>\n",
       "      <td>1598</td>\n",
       "      <td>6.0</td>\n",
       "      <td>0.310</td>\n",
       "      <td>0.47</td>\n",
       "      <td>3.6</td>\n",
       "      <td>0.067</td>\n",
       "      <td>18.0</td>\n",
       "      <td>42.0</td>\n",
       "      <td>0.99549</td>\n",
       "      <td>3.39</td>\n",
       "      <td>0.66</td>\n",
       "      <td>11.0</td>\n",
       "      <td>6</td>\n",
       "    </tr>\n",
       "  </tbody>\n",
       "</table>\n",
       "<p>1599 rows × 12 columns</p>\n",
       "</div>"
      ],
      "text/plain": [
       "      fixed acidity  volatile acidity  citric acid  residual sugar  chlorides  \\\n",
       "0               7.4             0.700         0.00             1.9      0.076   \n",
       "1               7.8             0.880         0.00             2.6      0.098   \n",
       "2               7.8             0.760         0.04             2.3      0.092   \n",
       "3              11.2             0.280         0.56             1.9      0.075   \n",
       "4               7.4             0.700         0.00             1.9      0.076   \n",
       "...             ...               ...          ...             ...        ...   \n",
       "1594            6.2             0.600         0.08             2.0      0.090   \n",
       "1595            5.9             0.550         0.10             2.2      0.062   \n",
       "1596            6.3             0.510         0.13             2.3      0.076   \n",
       "1597            5.9             0.645         0.12             2.0      0.075   \n",
       "1598            6.0             0.310         0.47             3.6      0.067   \n",
       "\n",
       "      free sulfur dioxide  total sulfur dioxide  density    pH  sulphates  \\\n",
       "0                    11.0                  34.0  0.99780  3.51       0.56   \n",
       "1                    25.0                  67.0  0.99680  3.20       0.68   \n",
       "2                    15.0                  54.0  0.99700  3.26       0.65   \n",
       "3                    17.0                  60.0  0.99800  3.16       0.58   \n",
       "4                    11.0                  34.0  0.99780  3.51       0.56   \n",
       "...                   ...                   ...      ...   ...        ...   \n",
       "1594                 32.0                  44.0  0.99490  3.45       0.58   \n",
       "1595                 39.0                  51.0  0.99512  3.52       0.76   \n",
       "1596                 29.0                  40.0  0.99574  3.42       0.75   \n",
       "1597                 32.0                  44.0  0.99547  3.57       0.71   \n",
       "1598                 18.0                  42.0  0.99549  3.39       0.66   \n",
       "\n",
       "      alcohol  quality  \n",
       "0         9.4        5  \n",
       "1         9.8        5  \n",
       "2         9.8        5  \n",
       "3         9.8        6  \n",
       "4         9.4        5  \n",
       "...       ...      ...  \n",
       "1594     10.5        5  \n",
       "1595     11.2        6  \n",
       "1596     11.0        6  \n",
       "1597     10.2        5  \n",
       "1598     11.0        6  \n",
       "\n",
       "[1599 rows x 12 columns]"
      ]
     },
     "execution_count": 9,
     "metadata": {},
     "output_type": "execute_result"
    }
   ],
   "source": [
    "df"
   ]
  },
  {
   "cell_type": "markdown",
   "metadata": {},
   "source": [
    "Проверяем данные."
   ]
  },
  {
   "cell_type": "code",
   "execution_count": 10,
   "metadata": {},
   "outputs": [
    {
     "data": {
      "text/html": [
       "<div>\n",
       "<style scoped>\n",
       "    .dataframe tbody tr th:only-of-type {\n",
       "        vertical-align: middle;\n",
       "    }\n",
       "\n",
       "    .dataframe tbody tr th {\n",
       "        vertical-align: top;\n",
       "    }\n",
       "\n",
       "    .dataframe thead th {\n",
       "        text-align: right;\n",
       "    }\n",
       "</style>\n",
       "<table border=\"1\" class=\"dataframe\">\n",
       "  <thead>\n",
       "    <tr style=\"text-align: right;\">\n",
       "      <th></th>\n",
       "      <th>fixed acidity</th>\n",
       "      <th>volatile acidity</th>\n",
       "      <th>citric acid</th>\n",
       "      <th>residual sugar</th>\n",
       "      <th>chlorides</th>\n",
       "      <th>free sulfur dioxide</th>\n",
       "      <th>total sulfur dioxide</th>\n",
       "      <th>density</th>\n",
       "      <th>pH</th>\n",
       "      <th>sulphates</th>\n",
       "      <th>alcohol</th>\n",
       "      <th>quality</th>\n",
       "    </tr>\n",
       "  </thead>\n",
       "  <tbody>\n",
       "    <tr>\n",
       "      <td>count</td>\n",
       "      <td>1599.000000</td>\n",
       "      <td>1599.000000</td>\n",
       "      <td>1599.000000</td>\n",
       "      <td>1599.000000</td>\n",
       "      <td>1599.000000</td>\n",
       "      <td>1599.000000</td>\n",
       "      <td>1599.000000</td>\n",
       "      <td>1599.000000</td>\n",
       "      <td>1599.000000</td>\n",
       "      <td>1599.000000</td>\n",
       "      <td>1599.000000</td>\n",
       "      <td>1599.000000</td>\n",
       "    </tr>\n",
       "    <tr>\n",
       "      <td>mean</td>\n",
       "      <td>8.319637</td>\n",
       "      <td>0.527821</td>\n",
       "      <td>0.270976</td>\n",
       "      <td>2.538806</td>\n",
       "      <td>0.087467</td>\n",
       "      <td>15.874922</td>\n",
       "      <td>46.467792</td>\n",
       "      <td>0.996747</td>\n",
       "      <td>3.311113</td>\n",
       "      <td>0.658149</td>\n",
       "      <td>10.422983</td>\n",
       "      <td>5.636023</td>\n",
       "    </tr>\n",
       "    <tr>\n",
       "      <td>std</td>\n",
       "      <td>1.741096</td>\n",
       "      <td>0.179060</td>\n",
       "      <td>0.194801</td>\n",
       "      <td>1.409928</td>\n",
       "      <td>0.047065</td>\n",
       "      <td>10.460157</td>\n",
       "      <td>32.895324</td>\n",
       "      <td>0.001887</td>\n",
       "      <td>0.154386</td>\n",
       "      <td>0.169507</td>\n",
       "      <td>1.065668</td>\n",
       "      <td>0.807569</td>\n",
       "    </tr>\n",
       "    <tr>\n",
       "      <td>min</td>\n",
       "      <td>4.600000</td>\n",
       "      <td>0.120000</td>\n",
       "      <td>0.000000</td>\n",
       "      <td>0.900000</td>\n",
       "      <td>0.012000</td>\n",
       "      <td>1.000000</td>\n",
       "      <td>6.000000</td>\n",
       "      <td>0.990070</td>\n",
       "      <td>2.740000</td>\n",
       "      <td>0.330000</td>\n",
       "      <td>8.400000</td>\n",
       "      <td>3.000000</td>\n",
       "    </tr>\n",
       "    <tr>\n",
       "      <td>25%</td>\n",
       "      <td>7.100000</td>\n",
       "      <td>0.390000</td>\n",
       "      <td>0.090000</td>\n",
       "      <td>1.900000</td>\n",
       "      <td>0.070000</td>\n",
       "      <td>7.000000</td>\n",
       "      <td>22.000000</td>\n",
       "      <td>0.995600</td>\n",
       "      <td>3.210000</td>\n",
       "      <td>0.550000</td>\n",
       "      <td>9.500000</td>\n",
       "      <td>5.000000</td>\n",
       "    </tr>\n",
       "    <tr>\n",
       "      <td>50%</td>\n",
       "      <td>7.900000</td>\n",
       "      <td>0.520000</td>\n",
       "      <td>0.260000</td>\n",
       "      <td>2.200000</td>\n",
       "      <td>0.079000</td>\n",
       "      <td>14.000000</td>\n",
       "      <td>38.000000</td>\n",
       "      <td>0.996750</td>\n",
       "      <td>3.310000</td>\n",
       "      <td>0.620000</td>\n",
       "      <td>10.200000</td>\n",
       "      <td>6.000000</td>\n",
       "    </tr>\n",
       "    <tr>\n",
       "      <td>75%</td>\n",
       "      <td>9.200000</td>\n",
       "      <td>0.640000</td>\n",
       "      <td>0.420000</td>\n",
       "      <td>2.600000</td>\n",
       "      <td>0.090000</td>\n",
       "      <td>21.000000</td>\n",
       "      <td>62.000000</td>\n",
       "      <td>0.997835</td>\n",
       "      <td>3.400000</td>\n",
       "      <td>0.730000</td>\n",
       "      <td>11.100000</td>\n",
       "      <td>6.000000</td>\n",
       "    </tr>\n",
       "    <tr>\n",
       "      <td>max</td>\n",
       "      <td>15.900000</td>\n",
       "      <td>1.580000</td>\n",
       "      <td>1.000000</td>\n",
       "      <td>15.500000</td>\n",
       "      <td>0.611000</td>\n",
       "      <td>72.000000</td>\n",
       "      <td>289.000000</td>\n",
       "      <td>1.003690</td>\n",
       "      <td>4.010000</td>\n",
       "      <td>2.000000</td>\n",
       "      <td>14.900000</td>\n",
       "      <td>8.000000</td>\n",
       "    </tr>\n",
       "  </tbody>\n",
       "</table>\n",
       "</div>"
      ],
      "text/plain": [
       "       fixed acidity  volatile acidity  citric acid  residual sugar  \\\n",
       "count    1599.000000       1599.000000  1599.000000     1599.000000   \n",
       "mean        8.319637          0.527821     0.270976        2.538806   \n",
       "std         1.741096          0.179060     0.194801        1.409928   \n",
       "min         4.600000          0.120000     0.000000        0.900000   \n",
       "25%         7.100000          0.390000     0.090000        1.900000   \n",
       "50%         7.900000          0.520000     0.260000        2.200000   \n",
       "75%         9.200000          0.640000     0.420000        2.600000   \n",
       "max        15.900000          1.580000     1.000000       15.500000   \n",
       "\n",
       "         chlorides  free sulfur dioxide  total sulfur dioxide      density  \\\n",
       "count  1599.000000          1599.000000           1599.000000  1599.000000   \n",
       "mean      0.087467            15.874922             46.467792     0.996747   \n",
       "std       0.047065            10.460157             32.895324     0.001887   \n",
       "min       0.012000             1.000000              6.000000     0.990070   \n",
       "25%       0.070000             7.000000             22.000000     0.995600   \n",
       "50%       0.079000            14.000000             38.000000     0.996750   \n",
       "75%       0.090000            21.000000             62.000000     0.997835   \n",
       "max       0.611000            72.000000            289.000000     1.003690   \n",
       "\n",
       "                pH    sulphates      alcohol      quality  \n",
       "count  1599.000000  1599.000000  1599.000000  1599.000000  \n",
       "mean      3.311113     0.658149    10.422983     5.636023  \n",
       "std       0.154386     0.169507     1.065668     0.807569  \n",
       "min       2.740000     0.330000     8.400000     3.000000  \n",
       "25%       3.210000     0.550000     9.500000     5.000000  \n",
       "50%       3.310000     0.620000    10.200000     6.000000  \n",
       "75%       3.400000     0.730000    11.100000     6.000000  \n",
       "max       4.010000     2.000000    14.900000     8.000000  "
      ]
     },
     "execution_count": 10,
     "metadata": {},
     "output_type": "execute_result"
    }
   ],
   "source": [
    "df.describe()"
   ]
  },
  {
   "cell_type": "markdown",
   "metadata": {},
   "source": [
    "Заметим, что в каждом столбце есть \"аномально-большие\" наблюдения. Посмотрим на ящики с усами, возможно у нас много выбросов."
   ]
  },
  {
   "cell_type": "code",
   "execution_count": 11,
   "metadata": {},
   "outputs": [
    {
     "data": {
      "text/plain": [
       "<matplotlib.axes._subplots.AxesSubplot at 0x243caf4dd08>"
      ]
     },
     "execution_count": 11,
     "metadata": {},
     "output_type": "execute_result"
    }
   ],
   "source": [
    "df.boxplot(figsize=(20,10), rot=45, fontsize=15)"
   ]
  },
  {
   "cell_type": "markdown",
   "metadata": {},
   "source": [
    "Из картинки ничего не понятно, так как данные несопоставимы. Для определения количества выбросов стандартизуем данные и посмотрим на ящики с усами стандартизованных данных."
   ]
  },
  {
   "cell_type": "code",
   "execution_count": 12,
   "metadata": {},
   "outputs": [
    {
     "data": {
      "text/plain": [
       "<matplotlib.axes._subplots.AxesSubplot at 0x243cbf4e2c8>"
      ]
     },
     "execution_count": 12,
     "metadata": {},
     "output_type": "execute_result"
    },
    {
     "data": {
      "image/png": "[encoded data removed]",
      "text/plain": [
       "<Figure size 1440x720 with 1 Axes>"
      ]
     },
     "metadata": {
      "needs_background": "light"
     },
     "output_type": "display_data"
    }
   ],
   "source": [
    "from sklearn import preprocessing\n",
    "stand = preprocessing.MinMaxScaler()\n",
    "df_standed = df.copy()\n",
    "df_standed[list(df.columns)] = stand.fit_transform(df)\n",
    "df_standed.boxplot(figsize=(20,10), rot=45, fontsize=15)"
   ]
  },
  {
   "cell_type": "markdown",
   "metadata": {},
   "source": [
    "Огромное количество выбросов. Возможно наши переменные имеют нормальное распределение и мы сможем воспользоваться правилом трех сигм и удалить наблюдения в каждом столбце, выходящие за интервал $(\\bar{y} - \\sigma, \\bar{y} - \\sigma)$? Проверим гипотезы о нормальности распределения наших переменных."
   ]
  },
  {
   "cell_type": "code",
   "execution_count": 13,
   "metadata": {},
   "outputs": [
    {
     "name": "stdout",
     "output_type": "stream",
     "text": [
      "Так как p-value < 0.05, то отколоняем нулевую гипотезу о нормальности распределения:\n",
      "        переменная free sulfur dioxide не имеет нормальное распределение с вероятностью 0.95\n",
      "Так как p-value < 0.05, то отколоняем нулевую гипотезу о нормальности распределения:\n",
      "        переменная citric acid не имеет нормальное распределение с вероятностью 0.95\n",
      "Так как p-value < 0.05, то отколоняем нулевую гипотезу о нормальности распределения:\n",
      "        переменная quality не имеет нормальное распределение с вероятностью 0.95\n",
      "Так как p-value < 0.05, то отколоняем нулевую гипотезу о нормальности распределения:\n",
      "        переменная fixed acidity не имеет нормальное распределение с вероятностью 0.95\n",
      "Так как p-value < 0.05, то отколоняем нулевую гипотезу о нормальности распределения:\n",
      "        переменная volatile acidity не имеет нормальное распределение с вероятностью 0.95\n",
      "Так как p-value < 0.05, то отколоняем нулевую гипотезу о нормальности распределения:\n",
      "        переменная density не имеет нормальное распределение с вероятностью 0.95\n",
      "Так как p-value < 0.05, то отколоняем нулевую гипотезу о нормальности распределения:\n",
      "        переменная residual sugar не имеет нормальное распределение с вероятностью 0.95\n",
      "Так как p-value < 0.05, то отколоняем нулевую гипотезу о нормальности распределения:\n",
      "        переменная sulphates не имеет нормальное распределение с вероятностью 0.95\n",
      "Так как p-value < 0.05, то отколоняем нулевую гипотезу о нормальности распределения:\n",
      "        переменная chlorides не имеет нормальное распределение с вероятностью 0.95\n",
      "Так как p-value < 0.05, то отколоняем нулевую гипотезу о нормальности распределения:\n",
      "        переменная total sulfur dioxide не имеет нормальное распределение с вероятностью 0.95\n",
      "Так как p-value < 0.05, то отколоняем нулевую гипотезу о нормальности распределения:\n",
      "        переменная pH не имеет нормальное распределение с вероятностью 0.95\n",
      "Так как p-value < 0.05, то отколоняем нулевую гипотезу о нормальности распределения:\n",
      "        переменная alcohol не имеет нормальное распределение с вероятностью 0.95\n"
     ]
    }
   ],
   "source": [
    "for col in set(df.columns):\n",
    "    if stats.shapiro(df[col])[1] > 0.05:\n",
    "        print(\"Так как p-value > 0.05, то не отколоняем нулевую гипотезу о нормальности распределения:\\n\\\n",
    "        переменная \" + col + \" имеет нормальное распределение с вероятностью 0.95\")\n",
    "    else:\n",
    "        print(\"Так как p-value < 0.05, то отколоняем нулевую гипотезу о нормальности распределения:\\n\\\n",
    "        переменная \" + col + \" не имеет нормальное распределение с вероятностью 0.95\")"
   ]
  },
  {
   "cell_type": "markdown",
   "metadata": {},
   "source": [
    "Возможно они имеют log-нормальное распределение?"
   ]
  },
  {
   "cell_type": "code",
   "execution_count": 14,
   "metadata": {},
   "outputs": [
    {
     "name": "stdout",
     "output_type": "stream",
     "text": [
      "Так как p-value < 0.05, то отколоняем нулевую гипотезу о нормальности распределения:\n",
      "        переменная free sulfur dioxide не имеет нормальное распределение с вероятностью 0.95\n",
      "Так как p-value > 0.05, то не отколоняем нулевую гипотезу о нормальности распределения:\n",
      "        переменная citric acid имеет нормальное распределение с вероятностью 0.95\n",
      "Так как p-value < 0.05, то отколоняем нулевую гипотезу о нормальности распределения:\n",
      "        переменная quality не имеет нормальное распределение с вероятностью 0.95\n",
      "Так как p-value < 0.05, то отколоняем нулевую гипотезу о нормальности распределения:\n",
      "        переменная fixed acidity не имеет нормальное распределение с вероятностью 0.95\n",
      "Так как p-value < 0.05, то отколоняем нулевую гипотезу о нормальности распределения:\n",
      "        переменная volatile acidity не имеет нормальное распределение с вероятностью 0.95\n",
      "Так как p-value < 0.05, то отколоняем нулевую гипотезу о нормальности распределения:\n",
      "        переменная density не имеет нормальное распределение с вероятностью 0.95\n",
      "Так как p-value < 0.05, то отколоняем нулевую гипотезу о нормальности распределения:\n",
      "        переменная residual sugar не имеет нормальное распределение с вероятностью 0.95\n",
      "Так как p-value < 0.05, то отколоняем нулевую гипотезу о нормальности распределения:\n",
      "        переменная sulphates не имеет нормальное распределение с вероятностью 0.95\n",
      "Так как p-value < 0.05, то отколоняем нулевую гипотезу о нормальности распределения:\n",
      "        переменная chlorides не имеет нормальное распределение с вероятностью 0.95\n",
      "Так как p-value < 0.05, то отколоняем нулевую гипотезу о нормальности распределения:\n",
      "        переменная total sulfur dioxide не имеет нормальное распределение с вероятностью 0.95\n",
      "Так как p-value < 0.05, то отколоняем нулевую гипотезу о нормальности распределения:\n",
      "        переменная pH не имеет нормальное распределение с вероятностью 0.95\n",
      "Так как p-value < 0.05, то отколоняем нулевую гипотезу о нормальности распределения:\n",
      "        переменная alcohol не имеет нормальное распределение с вероятностью 0.95\n"
     ]
    },
    {
     "name": "stderr",
     "output_type": "stream",
     "text": [
      "C:\\Games\\anaconda\\lib\\site-packages\\pandas\\core\\series.py:853: RuntimeWarning: divide by zero encountered in log\n",
      "  result = getattr(ufunc, method)(*inputs, **kwargs)\n"
     ]
    }
   ],
   "source": [
    "for col in set(df.columns):\n",
    "    if stats.shapiro(np.log(df[col]))[1] > 0.05:\n",
    "        print(\"Так как p-value > 0.05, то не отколоняем нулевую гипотезу о нормальности распределения:\\n\\\n",
    "        переменная \" + col + \" имеет нормальное распределение с вероятностью 0.95\")\n",
    "    else:\n",
    "        print(\"Так как p-value < 0.05, то отколоняем нулевую гипотезу о нормальности распределения:\\n\\\n",
    "        переменная \" + col + \" не имеет нормальное распределение с вероятностью 0.95\")"
   ]
  },
  {
   "cell_type": "markdown",
   "metadata": {},
   "source": [
    "Как видим, наши параметры не имеют ни нормальное, ни log-нормальное распределение. Нужно удалять выбросы по-другому."
   ]
  },
  {
   "cell_type": "markdown",
   "metadata": {},
   "source": [
    "Огромное количество наблюений выходит за верхний \"ус\" ящика, то есть их значения больше $Q_3 + 1.5(Q_3 - Q_1)$. Выбросы будут искажать и портить модель классификации. Удаляем выбросы: удалим наблюдения, выходищяие за предел \"усов\" (нижних и верхних) ящиков с усами. Придется жертвовать количеством наблюдений."
   ]
  },
  {
   "cell_type": "code",
   "execution_count": 15,
   "metadata": {},
   "outputs": [
    {
     "data": {
      "text/plain": [
       "[[3.95, 12.349999999999998],\n",
       " [0.015000000000000013, 1.0150000000000001],\n",
       " [-0.4049999999999999, 0.9149999999999999],\n",
       " [0.8499999999999996, 3.6500000000000004],\n",
       " [0.04000000000000002, 0.11999999999999998],\n",
       " [-14.0, 42.0],\n",
       " [-38.0, 122.0],\n",
       " [0.9922475000000002, 1.0011874999999997],\n",
       " [2.925, 3.6849999999999996],\n",
       " [0.28000000000000014, 0.9999999999999999],\n",
       " [7.1000000000000005, 13.5],\n",
       " [3.5, 7.5]]"
      ]
     },
     "execution_count": 15,
     "metadata": {},
     "output_type": "execute_result"
    }
   ],
   "source": [
    "# находим верхние и нижние границы ящиков с усами\n",
    "bound = []\n",
    "for i in list(df.columns):\n",
    "    q1 = df[i].quantile(q=0.25)\n",
    "    q3 = df[i].quantile(q=0.75)\n",
    "    bound.append([q1 - 1.5 * (q3 - q1), q3 + 1.5 * (q3 - q1)])\n",
    "bound"
   ]
  },
  {
   "cell_type": "markdown",
   "metadata": {},
   "source": [
    "Создадим копию датафрейма, в которой будем удалять наблюдения, выходящие за верхние и нижние границы ящиков с усами."
   ]
  },
  {
   "cell_type": "code",
   "execution_count": 16,
   "metadata": {},
   "outputs": [],
   "source": [
    "col = list(df.columns)\n",
    "df1 = df.copy()\n",
    "for i in range(len(bound)):\n",
    "    df1 = df1[(df1[col[i]] > bound[i][0]) & (df1[col[i]] < bound[i][1])]"
   ]
  },
  {
   "cell_type": "markdown",
   "metadata": {},
   "source": [
    "Исправилась ли ситуация?"
   ]
  },
  {
   "cell_type": "code",
   "execution_count": 17,
   "metadata": {},
   "outputs": [
    {
     "data": {
      "text/html": [
       "<div>\n",
       "<style scoped>\n",
       "    .dataframe tbody tr th:only-of-type {\n",
       "        vertical-align: middle;\n",
       "    }\n",
       "\n",
       "    .dataframe tbody tr th {\n",
       "        vertical-align: top;\n",
       "    }\n",
       "\n",
       "    .dataframe thead th {\n",
       "        text-align: right;\n",
       "    }\n",
       "</style>\n",
       "<table border=\"1\" class=\"dataframe\">\n",
       "  <thead>\n",
       "    <tr style=\"text-align: right;\">\n",
       "      <th></th>\n",
       "      <th>fixed acidity</th>\n",
       "      <th>volatile acidity</th>\n",
       "      <th>citric acid</th>\n",
       "      <th>residual sugar</th>\n",
       "      <th>chlorides</th>\n",
       "      <th>free sulfur dioxide</th>\n",
       "      <th>total sulfur dioxide</th>\n",
       "      <th>density</th>\n",
       "      <th>pH</th>\n",
       "      <th>sulphates</th>\n",
       "      <th>alcohol</th>\n",
       "      <th>quality</th>\n",
       "    </tr>\n",
       "  </thead>\n",
       "  <tbody>\n",
       "    <tr>\n",
       "      <td>count</td>\n",
       "      <td>1176.000000</td>\n",
       "      <td>1176.000000</td>\n",
       "      <td>1176.000000</td>\n",
       "      <td>1176.000000</td>\n",
       "      <td>1176.000000</td>\n",
       "      <td>1176.000000</td>\n",
       "      <td>1176.000000</td>\n",
       "      <td>1176.000000</td>\n",
       "      <td>1176.000000</td>\n",
       "      <td>1176.000000</td>\n",
       "      <td>1176.000000</td>\n",
       "      <td>1176.000000</td>\n",
       "    </tr>\n",
       "    <tr>\n",
       "      <td>mean</td>\n",
       "      <td>8.161650</td>\n",
       "      <td>0.522963</td>\n",
       "      <td>0.246760</td>\n",
       "      <td>2.184524</td>\n",
       "      <td>0.078588</td>\n",
       "      <td>14.984694</td>\n",
       "      <td>42.124150</td>\n",
       "      <td>0.996581</td>\n",
       "      <td>3.324600</td>\n",
       "      <td>0.631318</td>\n",
       "      <td>10.352452</td>\n",
       "      <td>5.624150</td>\n",
       "    </tr>\n",
       "    <tr>\n",
       "      <td>std</td>\n",
       "      <td>1.459478</td>\n",
       "      <td>0.164364</td>\n",
       "      <td>0.179571</td>\n",
       "      <td>0.440907</td>\n",
       "      <td>0.014325</td>\n",
       "      <td>8.763159</td>\n",
       "      <td>25.929986</td>\n",
       "      <td>0.001594</td>\n",
       "      <td>0.131856</td>\n",
       "      <td>0.116241</td>\n",
       "      <td>0.964454</td>\n",
       "      <td>0.721626</td>\n",
       "    </tr>\n",
       "    <tr>\n",
       "      <td>min</td>\n",
       "      <td>5.100000</td>\n",
       "      <td>0.120000</td>\n",
       "      <td>0.000000</td>\n",
       "      <td>1.200000</td>\n",
       "      <td>0.041000</td>\n",
       "      <td>1.000000</td>\n",
       "      <td>6.000000</td>\n",
       "      <td>0.992360</td>\n",
       "      <td>2.940000</td>\n",
       "      <td>0.330000</td>\n",
       "      <td>8.700000</td>\n",
       "      <td>4.000000</td>\n",
       "    </tr>\n",
       "    <tr>\n",
       "      <td>25%</td>\n",
       "      <td>7.100000</td>\n",
       "      <td>0.390000</td>\n",
       "      <td>0.080000</td>\n",
       "      <td>1.900000</td>\n",
       "      <td>0.069000</td>\n",
       "      <td>8.000000</td>\n",
       "      <td>22.000000</td>\n",
       "      <td>0.995520</td>\n",
       "      <td>3.230000</td>\n",
       "      <td>0.550000</td>\n",
       "      <td>9.500000</td>\n",
       "      <td>5.000000</td>\n",
       "    </tr>\n",
       "    <tr>\n",
       "      <td>50%</td>\n",
       "      <td>7.800000</td>\n",
       "      <td>0.520000</td>\n",
       "      <td>0.240000</td>\n",
       "      <td>2.100000</td>\n",
       "      <td>0.078000</td>\n",
       "      <td>13.000000</td>\n",
       "      <td>36.000000</td>\n",
       "      <td>0.996600</td>\n",
       "      <td>3.330000</td>\n",
       "      <td>0.610000</td>\n",
       "      <td>10.100000</td>\n",
       "      <td>6.000000</td>\n",
       "    </tr>\n",
       "    <tr>\n",
       "      <td>75%</td>\n",
       "      <td>9.000000</td>\n",
       "      <td>0.630000</td>\n",
       "      <td>0.390000</td>\n",
       "      <td>2.500000</td>\n",
       "      <td>0.087000</td>\n",
       "      <td>20.000000</td>\n",
       "      <td>56.000000</td>\n",
       "      <td>0.997600</td>\n",
       "      <td>3.410000</td>\n",
       "      <td>0.700000</td>\n",
       "      <td>11.000000</td>\n",
       "      <td>6.000000</td>\n",
       "    </tr>\n",
       "    <tr>\n",
       "      <td>max</td>\n",
       "      <td>12.300000</td>\n",
       "      <td>1.005000</td>\n",
       "      <td>0.730000</td>\n",
       "      <td>3.600000</td>\n",
       "      <td>0.119000</td>\n",
       "      <td>41.000000</td>\n",
       "      <td>121.000000</td>\n",
       "      <td>1.001000</td>\n",
       "      <td>3.680000</td>\n",
       "      <td>0.980000</td>\n",
       "      <td>13.400000</td>\n",
       "      <td>7.000000</td>\n",
       "    </tr>\n",
       "  </tbody>\n",
       "</table>\n",
       "</div>"
      ],
      "text/plain": [
       "       fixed acidity  volatile acidity  citric acid  residual sugar  \\\n",
       "count    1176.000000       1176.000000  1176.000000     1176.000000   \n",
       "mean        8.161650          0.522963     0.246760        2.184524   \n",
       "std         1.459478          0.164364     0.179571        0.440907   \n",
       "min         5.100000          0.120000     0.000000        1.200000   \n",
       "25%         7.100000          0.390000     0.080000        1.900000   \n",
       "50%         7.800000          0.520000     0.240000        2.100000   \n",
       "75%         9.000000          0.630000     0.390000        2.500000   \n",
       "max        12.300000          1.005000     0.730000        3.600000   \n",
       "\n",
       "         chlorides  free sulfur dioxide  total sulfur dioxide      density  \\\n",
       "count  1176.000000          1176.000000           1176.000000  1176.000000   \n",
       "mean      0.078588            14.984694             42.124150     0.996581   \n",
       "std       0.014325             8.763159             25.929986     0.001594   \n",
       "min       0.041000             1.000000              6.000000     0.992360   \n",
       "25%       0.069000             8.000000             22.000000     0.995520   \n",
       "50%       0.078000            13.000000             36.000000     0.996600   \n",
       "75%       0.087000            20.000000             56.000000     0.997600   \n",
       "max       0.119000            41.000000            121.000000     1.001000   \n",
       "\n",
       "                pH    sulphates      alcohol      quality  \n",
       "count  1176.000000  1176.000000  1176.000000  1176.000000  \n",
       "mean      3.324600     0.631318    10.352452     5.624150  \n",
       "std       0.131856     0.116241     0.964454     0.721626  \n",
       "min       2.940000     0.330000     8.700000     4.000000  \n",
       "25%       3.230000     0.550000     9.500000     5.000000  \n",
       "50%       3.330000     0.610000    10.100000     6.000000  \n",
       "75%       3.410000     0.700000    11.000000     6.000000  \n",
       "max       3.680000     0.980000    13.400000     7.000000  "
      ]
     },
     "execution_count": 17,
     "metadata": {},
     "output_type": "execute_result"
    }
   ],
   "source": [
    "df1.describe()"
   ]
  },
  {
   "cell_type": "code",
   "execution_count": 18,
   "metadata": {},
   "outputs": [
    {
     "data": {
      "text/plain": [
       "<matplotlib.axes._subplots.AxesSubplot at 0x243cc0ef208>"
      ]
     },
     "execution_count": 18,
     "metadata": {},
     "output_type": "execute_result"
    },
    {
     "data": {
      "image/png": "[encoded data removed]",
      "text/plain": [
       "<Figure size 1440x720 with 1 Axes>"
      ]
     },
     "metadata": {
      "needs_background": "light"
     },
     "output_type": "display_data"
    }
   ],
   "source": [
    "df1_standed = df1.copy()\n",
    "df1_standed[list(df1.columns)] = stand.fit_transform(df1)\n",
    "df1_standed.boxplot(figsize=(20,10), rot=45, fontsize=15)"
   ]
  },
  {
   "cell_type": "markdown",
   "metadata": {},
   "source": [
    "Ситуация лучше, но все еще много выбросов. Продолжаем удалять выбросы."
   ]
  },
  {
   "cell_type": "code",
   "execution_count": 19,
   "metadata": {},
   "outputs": [],
   "source": [
    "bound = []\n",
    "for i in list(df.columns):\n",
    "    q1 = df1[i].quantile(q=0.25)\n",
    "    q3 = df1[i].quantile(q=0.75)\n",
    "    bound.append([q1 - 1.5 * (q3 - q1), q3 + 1.5 * (q3 - q1)])\n",
    "for i in range(len(bound)):\n",
    "    df1 = df1[(df1[col[i]] > bound[i][0]) & (df1[col[i]] < bound[i][1])]"
   ]
  },
  {
   "cell_type": "code",
   "execution_count": 20,
   "metadata": {},
   "outputs": [
    {
     "data": {
      "text/html": [
       "<div>\n",
       "<style scoped>\n",
       "    .dataframe tbody tr th:only-of-type {\n",
       "        vertical-align: middle;\n",
       "    }\n",
       "\n",
       "    .dataframe tbody tr th {\n",
       "        vertical-align: top;\n",
       "    }\n",
       "\n",
       "    .dataframe thead th {\n",
       "        text-align: right;\n",
       "    }\n",
       "</style>\n",
       "<table border=\"1\" class=\"dataframe\">\n",
       "  <thead>\n",
       "    <tr style=\"text-align: right;\">\n",
       "      <th></th>\n",
       "      <th>fixed acidity</th>\n",
       "      <th>volatile acidity</th>\n",
       "      <th>citric acid</th>\n",
       "      <th>residual sugar</th>\n",
       "      <th>chlorides</th>\n",
       "      <th>free sulfur dioxide</th>\n",
       "      <th>total sulfur dioxide</th>\n",
       "      <th>density</th>\n",
       "      <th>pH</th>\n",
       "      <th>sulphates</th>\n",
       "      <th>alcohol</th>\n",
       "      <th>quality</th>\n",
       "    </tr>\n",
       "  </thead>\n",
       "  <tbody>\n",
       "    <tr>\n",
       "      <td>count</td>\n",
       "      <td>1046.000000</td>\n",
       "      <td>1046.000000</td>\n",
       "      <td>1046.000000</td>\n",
       "      <td>1046.000000</td>\n",
       "      <td>1046.000000</td>\n",
       "      <td>1046.000000</td>\n",
       "      <td>1046.000000</td>\n",
       "      <td>1046.000000</td>\n",
       "      <td>1046.000000</td>\n",
       "      <td>1046.000000</td>\n",
       "      <td>1046.000000</td>\n",
       "      <td>1046.000000</td>\n",
       "    </tr>\n",
       "    <tr>\n",
       "      <td>mean</td>\n",
       "      <td>8.072945</td>\n",
       "      <td>0.523169</td>\n",
       "      <td>0.238480</td>\n",
       "      <td>2.162380</td>\n",
       "      <td>0.077712</td>\n",
       "      <td>14.673040</td>\n",
       "      <td>40.475143</td>\n",
       "      <td>0.996513</td>\n",
       "      <td>3.331329</td>\n",
       "      <td>0.624637</td>\n",
       "      <td>10.350510</td>\n",
       "      <td>5.631931</td>\n",
       "    </tr>\n",
       "    <tr>\n",
       "      <td>std</td>\n",
       "      <td>1.344087</td>\n",
       "      <td>0.164465</td>\n",
       "      <td>0.174093</td>\n",
       "      <td>0.417319</td>\n",
       "      <td>0.013076</td>\n",
       "      <td>8.225191</td>\n",
       "      <td>23.737376</td>\n",
       "      <td>0.001539</td>\n",
       "      <td>0.126441</td>\n",
       "      <td>0.109979</td>\n",
       "      <td>0.958775</td>\n",
       "      <td>0.725010</td>\n",
       "    </tr>\n",
       "    <tr>\n",
       "      <td>min</td>\n",
       "      <td>5.200000</td>\n",
       "      <td>0.120000</td>\n",
       "      <td>0.000000</td>\n",
       "      <td>1.200000</td>\n",
       "      <td>0.043000</td>\n",
       "      <td>1.000000</td>\n",
       "      <td>6.000000</td>\n",
       "      <td>0.992420</td>\n",
       "      <td>2.980000</td>\n",
       "      <td>0.330000</td>\n",
       "      <td>8.700000</td>\n",
       "      <td>4.000000</td>\n",
       "    </tr>\n",
       "    <tr>\n",
       "      <td>25%</td>\n",
       "      <td>7.100000</td>\n",
       "      <td>0.390000</td>\n",
       "      <td>0.080000</td>\n",
       "      <td>1.900000</td>\n",
       "      <td>0.069000</td>\n",
       "      <td>8.000000</td>\n",
       "      <td>22.000000</td>\n",
       "      <td>0.995500</td>\n",
       "      <td>3.250000</td>\n",
       "      <td>0.550000</td>\n",
       "      <td>9.500000</td>\n",
       "      <td>5.000000</td>\n",
       "    </tr>\n",
       "    <tr>\n",
       "      <td>50%</td>\n",
       "      <td>7.800000</td>\n",
       "      <td>0.520000</td>\n",
       "      <td>0.230000</td>\n",
       "      <td>2.100000</td>\n",
       "      <td>0.078000</td>\n",
       "      <td>13.000000</td>\n",
       "      <td>35.000000</td>\n",
       "      <td>0.996560</td>\n",
       "      <td>3.330000</td>\n",
       "      <td>0.610000</td>\n",
       "      <td>10.100000</td>\n",
       "      <td>6.000000</td>\n",
       "    </tr>\n",
       "    <tr>\n",
       "      <td>75%</td>\n",
       "      <td>8.900000</td>\n",
       "      <td>0.635000</td>\n",
       "      <td>0.380000</td>\n",
       "      <td>2.400000</td>\n",
       "      <td>0.086000</td>\n",
       "      <td>20.000000</td>\n",
       "      <td>54.000000</td>\n",
       "      <td>0.997457</td>\n",
       "      <td>3.410000</td>\n",
       "      <td>0.690000</td>\n",
       "      <td>11.000000</td>\n",
       "      <td>6.000000</td>\n",
       "    </tr>\n",
       "    <tr>\n",
       "      <td>max</td>\n",
       "      <td>11.800000</td>\n",
       "      <td>0.980000</td>\n",
       "      <td>0.730000</td>\n",
       "      <td>3.400000</td>\n",
       "      <td>0.113000</td>\n",
       "      <td>37.000000</td>\n",
       "      <td>106.000000</td>\n",
       "      <td>1.000600</td>\n",
       "      <td>3.680000</td>\n",
       "      <td>0.920000</td>\n",
       "      <td>13.000000</td>\n",
       "      <td>7.000000</td>\n",
       "    </tr>\n",
       "  </tbody>\n",
       "</table>\n",
       "</div>"
      ],
      "text/plain": [
       "       fixed acidity  volatile acidity  citric acid  residual sugar  \\\n",
       "count    1046.000000       1046.000000  1046.000000     1046.000000   \n",
       "mean        8.072945          0.523169     0.238480        2.162380   \n",
       "std         1.344087          0.164465     0.174093        0.417319   \n",
       "min         5.200000          0.120000     0.000000        1.200000   \n",
       "25%         7.100000          0.390000     0.080000        1.900000   \n",
       "50%         7.800000          0.520000     0.230000        2.100000   \n",
       "75%         8.900000          0.635000     0.380000        2.400000   \n",
       "max        11.800000          0.980000     0.730000        3.400000   \n",
       "\n",
       "         chlorides  free sulfur dioxide  total sulfur dioxide      density  \\\n",
       "count  1046.000000          1046.000000           1046.000000  1046.000000   \n",
       "mean      0.077712            14.673040             40.475143     0.996513   \n",
       "std       0.013076             8.225191             23.737376     0.001539   \n",
       "min       0.043000             1.000000              6.000000     0.992420   \n",
       "25%       0.069000             8.000000             22.000000     0.995500   \n",
       "50%       0.078000            13.000000             35.000000     0.996560   \n",
       "75%       0.086000            20.000000             54.000000     0.997457   \n",
       "max       0.113000            37.000000            106.000000     1.000600   \n",
       "\n",
       "                pH    sulphates      alcohol      quality  \n",
       "count  1046.000000  1046.000000  1046.000000  1046.000000  \n",
       "mean      3.331329     0.624637    10.350510     5.631931  \n",
       "std       0.126441     0.109979     0.958775     0.725010  \n",
       "min       2.980000     0.330000     8.700000     4.000000  \n",
       "25%       3.250000     0.550000     9.500000     5.000000  \n",
       "50%       3.330000     0.610000    10.100000     6.000000  \n",
       "75%       3.410000     0.690000    11.000000     6.000000  \n",
       "max       3.680000     0.920000    13.000000     7.000000  "
      ]
     },
     "execution_count": 20,
     "metadata": {},
     "output_type": "execute_result"
    }
   ],
   "source": [
    "df1.describe()"
   ]
  },
  {
   "cell_type": "code",
   "execution_count": 21,
   "metadata": {},
   "outputs": [
    {
     "data": {
      "text/plain": [
       "<matplotlib.axes._subplots.AxesSubplot at 0x243cc27b448>"
      ]
     },
     "execution_count": 21,
     "metadata": {},
     "output_type": "execute_result"
    },
    {
     "data": {
      "image/png": "[encoded data removed]",
      "text/plain": [
       "<Figure size 1440x720 with 1 Axes>"
      ]
     },
     "metadata": {
      "needs_background": "light"
     },
     "output_type": "display_data"
    }
   ],
   "source": [
    "df1_standed = df1.copy()\n",
    "df1_standed[list(df1.columns)] = stand.fit_transform(df1)\n",
    "df1_standed.boxplot(figsize=(20,10), rot=45, fontsize=15)"
   ]
  },
  {
   "cell_type": "markdown",
   "metadata": {},
   "source": [
    "Еще раз."
   ]
  },
  {
   "cell_type": "code",
   "execution_count": 22,
   "metadata": {},
   "outputs": [],
   "source": [
    "bound = []\n",
    "for i in list(df.columns):\n",
    "    q1 = df1[i].quantile(q=0.25)\n",
    "    q3 = df1[i].quantile(q=0.75)\n",
    "    bound.append([q1 - 1.5 * (q3 - q1), q3 + 1.5 * (q3 - q1)])\n",
    "for i in range(len(bound)):\n",
    "    df1 = df1[(df1[col[i]] > bound[i][0]) & (df1[col[i]] < bound[i][1])]"
   ]
  },
  {
   "cell_type": "code",
   "execution_count": 23,
   "metadata": {},
   "outputs": [
    {
     "data": {
      "text/html": [
       "<div>\n",
       "<style scoped>\n",
       "    .dataframe tbody tr th:only-of-type {\n",
       "        vertical-align: middle;\n",
       "    }\n",
       "\n",
       "    .dataframe tbody tr th {\n",
       "        vertical-align: top;\n",
       "    }\n",
       "\n",
       "    .dataframe thead th {\n",
       "        text-align: right;\n",
       "    }\n",
       "</style>\n",
       "<table border=\"1\" class=\"dataframe\">\n",
       "  <thead>\n",
       "    <tr style=\"text-align: right;\">\n",
       "      <th></th>\n",
       "      <th>fixed acidity</th>\n",
       "      <th>volatile acidity</th>\n",
       "      <th>citric acid</th>\n",
       "      <th>residual sugar</th>\n",
       "      <th>chlorides</th>\n",
       "      <th>free sulfur dioxide</th>\n",
       "      <th>total sulfur dioxide</th>\n",
       "      <th>density</th>\n",
       "      <th>pH</th>\n",
       "      <th>sulphates</th>\n",
       "      <th>alcohol</th>\n",
       "      <th>quality</th>\n",
       "    </tr>\n",
       "  </thead>\n",
       "  <tbody>\n",
       "    <tr>\n",
       "      <td>count</td>\n",
       "      <td>967.000000</td>\n",
       "      <td>967.000000</td>\n",
       "      <td>967.000000</td>\n",
       "      <td>967.000000</td>\n",
       "      <td>967.000000</td>\n",
       "      <td>967.000000</td>\n",
       "      <td>967.000000</td>\n",
       "      <td>967.000000</td>\n",
       "      <td>967.000000</td>\n",
       "      <td>967.000000</td>\n",
       "      <td>967.000000</td>\n",
       "      <td>967.000000</td>\n",
       "    </tr>\n",
       "    <tr>\n",
       "      <td>mean</td>\n",
       "      <td>8.014891</td>\n",
       "      <td>0.522244</td>\n",
       "      <td>0.234767</td>\n",
       "      <td>2.128232</td>\n",
       "      <td>0.077355</td>\n",
       "      <td>14.572906</td>\n",
       "      <td>39.435367</td>\n",
       "      <td>0.996443</td>\n",
       "      <td>3.333992</td>\n",
       "      <td>0.622647</td>\n",
       "      <td>10.355567</td>\n",
       "      <td>5.638056</td>\n",
       "    </tr>\n",
       "    <tr>\n",
       "      <td>std</td>\n",
       "      <td>1.300766</td>\n",
       "      <td>0.163570</td>\n",
       "      <td>0.172482</td>\n",
       "      <td>0.374538</td>\n",
       "      <td>0.012698</td>\n",
       "      <td>8.127899</td>\n",
       "      <td>22.535817</td>\n",
       "      <td>0.001466</td>\n",
       "      <td>0.123429</td>\n",
       "      <td>0.105169</td>\n",
       "      <td>0.951989</td>\n",
       "      <td>0.718953</td>\n",
       "    </tr>\n",
       "    <tr>\n",
       "      <td>min</td>\n",
       "      <td>5.200000</td>\n",
       "      <td>0.120000</td>\n",
       "      <td>0.000000</td>\n",
       "      <td>1.200000</td>\n",
       "      <td>0.044000</td>\n",
       "      <td>1.000000</td>\n",
       "      <td>6.000000</td>\n",
       "      <td>0.992580</td>\n",
       "      <td>3.020000</td>\n",
       "      <td>0.370000</td>\n",
       "      <td>8.700000</td>\n",
       "      <td>4.000000</td>\n",
       "    </tr>\n",
       "    <tr>\n",
       "      <td>25%</td>\n",
       "      <td>7.100000</td>\n",
       "      <td>0.390000</td>\n",
       "      <td>0.080000</td>\n",
       "      <td>1.900000</td>\n",
       "      <td>0.069000</td>\n",
       "      <td>8.000000</td>\n",
       "      <td>22.000000</td>\n",
       "      <td>0.995500</td>\n",
       "      <td>3.255000</td>\n",
       "      <td>0.550000</td>\n",
       "      <td>9.500000</td>\n",
       "      <td>5.000000</td>\n",
       "    </tr>\n",
       "    <tr>\n",
       "      <td>50%</td>\n",
       "      <td>7.700000</td>\n",
       "      <td>0.520000</td>\n",
       "      <td>0.230000</td>\n",
       "      <td>2.100000</td>\n",
       "      <td>0.077000</td>\n",
       "      <td>13.000000</td>\n",
       "      <td>35.000000</td>\n",
       "      <td>0.996490</td>\n",
       "      <td>3.340000</td>\n",
       "      <td>0.600000</td>\n",
       "      <td>10.100000</td>\n",
       "      <td>6.000000</td>\n",
       "    </tr>\n",
       "    <tr>\n",
       "      <td>75%</td>\n",
       "      <td>8.800000</td>\n",
       "      <td>0.635000</td>\n",
       "      <td>0.370000</td>\n",
       "      <td>2.400000</td>\n",
       "      <td>0.085000</td>\n",
       "      <td>19.000000</td>\n",
       "      <td>52.000000</td>\n",
       "      <td>0.997400</td>\n",
       "      <td>3.410000</td>\n",
       "      <td>0.685000</td>\n",
       "      <td>11.000000</td>\n",
       "      <td>6.000000</td>\n",
       "    </tr>\n",
       "    <tr>\n",
       "      <td>max</td>\n",
       "      <td>11.600000</td>\n",
       "      <td>0.980000</td>\n",
       "      <td>0.690000</td>\n",
       "      <td>3.100000</td>\n",
       "      <td>0.111000</td>\n",
       "      <td>37.000000</td>\n",
       "      <td>101.000000</td>\n",
       "      <td>1.000240</td>\n",
       "      <td>3.630000</td>\n",
       "      <td>0.890000</td>\n",
       "      <td>13.000000</td>\n",
       "      <td>7.000000</td>\n",
       "    </tr>\n",
       "  </tbody>\n",
       "</table>\n",
       "</div>"
      ],
      "text/plain": [
       "       fixed acidity  volatile acidity  citric acid  residual sugar  \\\n",
       "count     967.000000        967.000000   967.000000      967.000000   \n",
       "mean        8.014891          0.522244     0.234767        2.128232   \n",
       "std         1.300766          0.163570     0.172482        0.374538   \n",
       "min         5.200000          0.120000     0.000000        1.200000   \n",
       "25%         7.100000          0.390000     0.080000        1.900000   \n",
       "50%         7.700000          0.520000     0.230000        2.100000   \n",
       "75%         8.800000          0.635000     0.370000        2.400000   \n",
       "max        11.600000          0.980000     0.690000        3.100000   \n",
       "\n",
       "        chlorides  free sulfur dioxide  total sulfur dioxide     density  \\\n",
       "count  967.000000           967.000000            967.000000  967.000000   \n",
       "mean     0.077355            14.572906             39.435367    0.996443   \n",
       "std      0.012698             8.127899             22.535817    0.001466   \n",
       "min      0.044000             1.000000              6.000000    0.992580   \n",
       "25%      0.069000             8.000000             22.000000    0.995500   \n",
       "50%      0.077000            13.000000             35.000000    0.996490   \n",
       "75%      0.085000            19.000000             52.000000    0.997400   \n",
       "max      0.111000            37.000000            101.000000    1.000240   \n",
       "\n",
       "               pH   sulphates     alcohol     quality  \n",
       "count  967.000000  967.000000  967.000000  967.000000  \n",
       "mean     3.333992    0.622647   10.355567    5.638056  \n",
       "std      0.123429    0.105169    0.951989    0.718953  \n",
       "min      3.020000    0.370000    8.700000    4.000000  \n",
       "25%      3.255000    0.550000    9.500000    5.000000  \n",
       "50%      3.340000    0.600000   10.100000    6.000000  \n",
       "75%      3.410000    0.685000   11.000000    6.000000  \n",
       "max      3.630000    0.890000   13.000000    7.000000  "
      ]
     },
     "execution_count": 23,
     "metadata": {},
     "output_type": "execute_result"
    }
   ],
   "source": [
    "df1.describe()"
   ]
  },
  {
   "cell_type": "code",
   "execution_count": 24,
   "metadata": {},
   "outputs": [
    {
     "data": {
      "text/plain": [
       "<matplotlib.axes._subplots.AxesSubplot at 0x243c9c35ec8>"
      ]
     },
     "execution_count": 24,
     "metadata": {},
     "output_type": "execute_result"
    },
    {
     "data": {
      "image/png": "[encoded data removed]",
      "text/plain": [
       "<Figure size 1440x720 with 1 Axes>"
      ]
     },
     "metadata": {
      "needs_background": "light"
     },
     "output_type": "display_data"
    }
   ],
   "source": [
    "df1_standed = df1.copy()\n",
    "df1_standed[list(df1.columns)] = stand.fit_transform(df1)\n",
    "df1_standed.boxplot(figsize=(20,10), rot=45, fontsize=15)"
   ]
  },
  {
   "cell_type": "markdown",
   "metadata": {},
   "source": [
    "Еще раз."
   ]
  },
  {
   "cell_type": "code",
   "execution_count": 25,
   "metadata": {},
   "outputs": [],
   "source": [
    "bound = []\n",
    "for i in list(df.columns):\n",
    "    q1 = df1[i].quantile(q=0.25)\n",
    "    q3 = df1[i].quantile(q=0.75)\n",
    "    bound.append([q1 - 1.5 * (q3 - q1), q3 + 1.5 * (q3 - q1)])\n",
    "for i in range(len(bound)):\n",
    "    df1 = df1[(df1[col[i]] > bound[i][0]) & (df1[col[i]] < bound[i][1])]"
   ]
  },
  {
   "cell_type": "code",
   "execution_count": 26,
   "metadata": {},
   "outputs": [
    {
     "data": {
      "text/html": [
       "<div>\n",
       "<style scoped>\n",
       "    .dataframe tbody tr th:only-of-type {\n",
       "        vertical-align: middle;\n",
       "    }\n",
       "\n",
       "    .dataframe tbody tr th {\n",
       "        vertical-align: top;\n",
       "    }\n",
       "\n",
       "    .dataframe thead th {\n",
       "        text-align: right;\n",
       "    }\n",
       "</style>\n",
       "<table border=\"1\" class=\"dataframe\">\n",
       "  <thead>\n",
       "    <tr style=\"text-align: right;\">\n",
       "      <th></th>\n",
       "      <th>fixed acidity</th>\n",
       "      <th>volatile acidity</th>\n",
       "      <th>citric acid</th>\n",
       "      <th>residual sugar</th>\n",
       "      <th>chlorides</th>\n",
       "      <th>free sulfur dioxide</th>\n",
       "      <th>total sulfur dioxide</th>\n",
       "      <th>density</th>\n",
       "      <th>pH</th>\n",
       "      <th>sulphates</th>\n",
       "      <th>alcohol</th>\n",
       "      <th>quality</th>\n",
       "    </tr>\n",
       "  </thead>\n",
       "  <tbody>\n",
       "    <tr>\n",
       "      <td>count</td>\n",
       "      <td>925.000000</td>\n",
       "      <td>925.000000</td>\n",
       "      <td>925.000000</td>\n",
       "      <td>925.000000</td>\n",
       "      <td>925.000000</td>\n",
       "      <td>925.000000</td>\n",
       "      <td>925.000000</td>\n",
       "      <td>925.000000</td>\n",
       "      <td>925.000000</td>\n",
       "      <td>925.000000</td>\n",
       "      <td>925.000000</td>\n",
       "      <td>925.000000</td>\n",
       "    </tr>\n",
       "    <tr>\n",
       "      <td>mean</td>\n",
       "      <td>7.964432</td>\n",
       "      <td>0.523530</td>\n",
       "      <td>0.229535</td>\n",
       "      <td>2.128324</td>\n",
       "      <td>0.077169</td>\n",
       "      <td>14.429189</td>\n",
       "      <td>38.725405</td>\n",
       "      <td>0.996436</td>\n",
       "      <td>3.337546</td>\n",
       "      <td>0.621384</td>\n",
       "      <td>10.344829</td>\n",
       "      <td>5.634595</td>\n",
       "    </tr>\n",
       "    <tr>\n",
       "      <td>std</td>\n",
       "      <td>1.223321</td>\n",
       "      <td>0.164655</td>\n",
       "      <td>0.168357</td>\n",
       "      <td>0.369520</td>\n",
       "      <td>0.012252</td>\n",
       "      <td>8.005856</td>\n",
       "      <td>21.750162</td>\n",
       "      <td>0.001437</td>\n",
       "      <td>0.119795</td>\n",
       "      <td>0.104293</td>\n",
       "      <td>0.947036</td>\n",
       "      <td>0.718112</td>\n",
       "    </tr>\n",
       "    <tr>\n",
       "      <td>min</td>\n",
       "      <td>5.200000</td>\n",
       "      <td>0.120000</td>\n",
       "      <td>0.000000</td>\n",
       "      <td>1.200000</td>\n",
       "      <td>0.046000</td>\n",
       "      <td>1.000000</td>\n",
       "      <td>6.000000</td>\n",
       "      <td>0.992800</td>\n",
       "      <td>3.040000</td>\n",
       "      <td>0.370000</td>\n",
       "      <td>8.700000</td>\n",
       "      <td>4.000000</td>\n",
       "    </tr>\n",
       "    <tr>\n",
       "      <td>25%</td>\n",
       "      <td>7.100000</td>\n",
       "      <td>0.390000</td>\n",
       "      <td>0.080000</td>\n",
       "      <td>1.900000</td>\n",
       "      <td>0.069000</td>\n",
       "      <td>8.000000</td>\n",
       "      <td>22.000000</td>\n",
       "      <td>0.995500</td>\n",
       "      <td>3.260000</td>\n",
       "      <td>0.550000</td>\n",
       "      <td>9.500000</td>\n",
       "      <td>5.000000</td>\n",
       "    </tr>\n",
       "    <tr>\n",
       "      <td>50%</td>\n",
       "      <td>7.700000</td>\n",
       "      <td>0.520000</td>\n",
       "      <td>0.230000</td>\n",
       "      <td>2.100000</td>\n",
       "      <td>0.077000</td>\n",
       "      <td>13.000000</td>\n",
       "      <td>34.000000</td>\n",
       "      <td>0.996500</td>\n",
       "      <td>3.340000</td>\n",
       "      <td>0.600000</td>\n",
       "      <td>10.100000</td>\n",
       "      <td>6.000000</td>\n",
       "    </tr>\n",
       "    <tr>\n",
       "      <td>75%</td>\n",
       "      <td>8.800000</td>\n",
       "      <td>0.640000</td>\n",
       "      <td>0.360000</td>\n",
       "      <td>2.400000</td>\n",
       "      <td>0.085000</td>\n",
       "      <td>19.000000</td>\n",
       "      <td>52.000000</td>\n",
       "      <td>0.997400</td>\n",
       "      <td>3.410000</td>\n",
       "      <td>0.680000</td>\n",
       "      <td>11.000000</td>\n",
       "      <td>6.000000</td>\n",
       "    </tr>\n",
       "    <tr>\n",
       "      <td>max</td>\n",
       "      <td>11.300000</td>\n",
       "      <td>0.980000</td>\n",
       "      <td>0.680000</td>\n",
       "      <td>3.100000</td>\n",
       "      <td>0.109000</td>\n",
       "      <td>35.000000</td>\n",
       "      <td>96.000000</td>\n",
       "      <td>1.000200</td>\n",
       "      <td>3.620000</td>\n",
       "      <td>0.880000</td>\n",
       "      <td>13.000000</td>\n",
       "      <td>7.000000</td>\n",
       "    </tr>\n",
       "  </tbody>\n",
       "</table>\n",
       "</div>"
      ],
      "text/plain": [
       "       fixed acidity  volatile acidity  citric acid  residual sugar  \\\n",
       "count     925.000000        925.000000   925.000000      925.000000   \n",
       "mean        7.964432          0.523530     0.229535        2.128324   \n",
       "std         1.223321          0.164655     0.168357        0.369520   \n",
       "min         5.200000          0.120000     0.000000        1.200000   \n",
       "25%         7.100000          0.390000     0.080000        1.900000   \n",
       "50%         7.700000          0.520000     0.230000        2.100000   \n",
       "75%         8.800000          0.640000     0.360000        2.400000   \n",
       "max        11.300000          0.980000     0.680000        3.100000   \n",
       "\n",
       "        chlorides  free sulfur dioxide  total sulfur dioxide     density  \\\n",
       "count  925.000000           925.000000            925.000000  925.000000   \n",
       "mean     0.077169            14.429189             38.725405    0.996436   \n",
       "std      0.012252             8.005856             21.750162    0.001437   \n",
       "min      0.046000             1.000000              6.000000    0.992800   \n",
       "25%      0.069000             8.000000             22.000000    0.995500   \n",
       "50%      0.077000            13.000000             34.000000    0.996500   \n",
       "75%      0.085000            19.000000             52.000000    0.997400   \n",
       "max      0.109000            35.000000             96.000000    1.000200   \n",
       "\n",
       "               pH   sulphates     alcohol     quality  \n",
       "count  925.000000  925.000000  925.000000  925.000000  \n",
       "mean     3.337546    0.621384   10.344829    5.634595  \n",
       "std      0.119795    0.104293    0.947036    0.718112  \n",
       "min      3.040000    0.370000    8.700000    4.000000  \n",
       "25%      3.260000    0.550000    9.500000    5.000000  \n",
       "50%      3.340000    0.600000   10.100000    6.000000  \n",
       "75%      3.410000    0.680000   11.000000    6.000000  \n",
       "max      3.620000    0.880000   13.000000    7.000000  "
      ]
     },
     "execution_count": 26,
     "metadata": {},
     "output_type": "execute_result"
    }
   ],
   "source": [
    "df1.describe()"
   ]
  },
  {
   "cell_type": "code",
   "execution_count": 27,
   "metadata": {},
   "outputs": [
    {
     "data": {
      "text/plain": [
       "<matplotlib.axes._subplots.AxesSubplot at 0x243cc8de608>"
      ]
     },
     "execution_count": 27,
     "metadata": {},
     "output_type": "execute_result"
    },
    {
     "data": {
      "image/png": "[encoded data removed]",
      "text/plain": [
       "<Figure size 1440x720 with 1 Axes>"
      ]
     },
     "metadata": {
      "needs_background": "light"
     },
     "output_type": "display_data"
    }
   ],
   "source": [
    "df1_standed = df1.copy()\n",
    "df1_standed[list(df1.columns)] = stand.fit_transform(df1)\n",
    "df1_standed.boxplot(figsize=(20,10), rot=45, fontsize=15)"
   ]
  },
  {
   "cell_type": "markdown",
   "metadata": {},
   "source": [
    "Ситуация исправилась. Остался всего один выброс. Уберем его вручную."
   ]
  },
  {
   "cell_type": "code",
   "execution_count": 28,
   "metadata": {},
   "outputs": [],
   "source": [
    "df1 = df1[df1[\"sulphates\"] < df1[\"sulphates\"].quantile(q=0.75) \n",
    "    + 1.5 * (df1[\"sulphates\"].quantile(q=0.75) - df1[\"sulphates\"].quantile(q=0.25))]"
   ]
  },
  {
   "cell_type": "code",
   "execution_count": 29,
   "metadata": {},
   "outputs": [
    {
     "data": {
      "text/html": [
       "<div>\n",
       "<style scoped>\n",
       "    .dataframe tbody tr th:only-of-type {\n",
       "        vertical-align: middle;\n",
       "    }\n",
       "\n",
       "    .dataframe tbody tr th {\n",
       "        vertical-align: top;\n",
       "    }\n",
       "\n",
       "    .dataframe thead th {\n",
       "        text-align: right;\n",
       "    }\n",
       "</style>\n",
       "<table border=\"1\" class=\"dataframe\">\n",
       "  <thead>\n",
       "    <tr style=\"text-align: right;\">\n",
       "      <th></th>\n",
       "      <th>fixed acidity</th>\n",
       "      <th>volatile acidity</th>\n",
       "      <th>citric acid</th>\n",
       "      <th>residual sugar</th>\n",
       "      <th>chlorides</th>\n",
       "      <th>free sulfur dioxide</th>\n",
       "      <th>total sulfur dioxide</th>\n",
       "      <th>density</th>\n",
       "      <th>pH</th>\n",
       "      <th>sulphates</th>\n",
       "      <th>alcohol</th>\n",
       "      <th>quality</th>\n",
       "    </tr>\n",
       "  </thead>\n",
       "  <tbody>\n",
       "    <tr>\n",
       "      <td>count</td>\n",
       "      <td>923.000000</td>\n",
       "      <td>923.000000</td>\n",
       "      <td>923.000000</td>\n",
       "      <td>923.000000</td>\n",
       "      <td>923.000000</td>\n",
       "      <td>923.000000</td>\n",
       "      <td>923.000000</td>\n",
       "      <td>923.000000</td>\n",
       "      <td>923.000000</td>\n",
       "      <td>923.000000</td>\n",
       "      <td>923.000000</td>\n",
       "      <td>923.000000</td>\n",
       "    </tr>\n",
       "    <tr>\n",
       "      <td>mean</td>\n",
       "      <td>7.960888</td>\n",
       "      <td>0.523982</td>\n",
       "      <td>0.228982</td>\n",
       "      <td>2.127952</td>\n",
       "      <td>0.077197</td>\n",
       "      <td>14.421452</td>\n",
       "      <td>38.736728</td>\n",
       "      <td>0.996436</td>\n",
       "      <td>3.337595</td>\n",
       "      <td>0.620823</td>\n",
       "      <td>10.342434</td>\n",
       "      <td>5.631636</td>\n",
       "    </tr>\n",
       "    <tr>\n",
       "      <td>std</td>\n",
       "      <td>1.220530</td>\n",
       "      <td>0.164545</td>\n",
       "      <td>0.168060</td>\n",
       "      <td>0.369717</td>\n",
       "      <td>0.012241</td>\n",
       "      <td>7.996410</td>\n",
       "      <td>21.761900</td>\n",
       "      <td>0.001437</td>\n",
       "      <td>0.119920</td>\n",
       "      <td>0.103708</td>\n",
       "      <td>0.945626</td>\n",
       "      <td>0.716066</td>\n",
       "    </tr>\n",
       "    <tr>\n",
       "      <td>min</td>\n",
       "      <td>5.200000</td>\n",
       "      <td>0.120000</td>\n",
       "      <td>0.000000</td>\n",
       "      <td>1.200000</td>\n",
       "      <td>0.046000</td>\n",
       "      <td>1.000000</td>\n",
       "      <td>6.000000</td>\n",
       "      <td>0.992800</td>\n",
       "      <td>3.040000</td>\n",
       "      <td>0.370000</td>\n",
       "      <td>8.700000</td>\n",
       "      <td>4.000000</td>\n",
       "    </tr>\n",
       "    <tr>\n",
       "      <td>25%</td>\n",
       "      <td>7.100000</td>\n",
       "      <td>0.390000</td>\n",
       "      <td>0.080000</td>\n",
       "      <td>1.900000</td>\n",
       "      <td>0.069000</td>\n",
       "      <td>8.000000</td>\n",
       "      <td>22.000000</td>\n",
       "      <td>0.995500</td>\n",
       "      <td>3.260000</td>\n",
       "      <td>0.550000</td>\n",
       "      <td>9.500000</td>\n",
       "      <td>5.000000</td>\n",
       "    </tr>\n",
       "    <tr>\n",
       "      <td>50%</td>\n",
       "      <td>7.700000</td>\n",
       "      <td>0.520000</td>\n",
       "      <td>0.230000</td>\n",
       "      <td>2.100000</td>\n",
       "      <td>0.077000</td>\n",
       "      <td>13.000000</td>\n",
       "      <td>34.000000</td>\n",
       "      <td>0.996500</td>\n",
       "      <td>3.340000</td>\n",
       "      <td>0.600000</td>\n",
       "      <td>10.100000</td>\n",
       "      <td>6.000000</td>\n",
       "    </tr>\n",
       "    <tr>\n",
       "      <td>75%</td>\n",
       "      <td>8.800000</td>\n",
       "      <td>0.640000</td>\n",
       "      <td>0.360000</td>\n",
       "      <td>2.400000</td>\n",
       "      <td>0.085000</td>\n",
       "      <td>19.000000</td>\n",
       "      <td>52.000000</td>\n",
       "      <td>0.997400</td>\n",
       "      <td>3.410000</td>\n",
       "      <td>0.680000</td>\n",
       "      <td>11.000000</td>\n",
       "      <td>6.000000</td>\n",
       "    </tr>\n",
       "    <tr>\n",
       "      <td>max</td>\n",
       "      <td>11.300000</td>\n",
       "      <td>0.980000</td>\n",
       "      <td>0.680000</td>\n",
       "      <td>3.100000</td>\n",
       "      <td>0.109000</td>\n",
       "      <td>35.000000</td>\n",
       "      <td>96.000000</td>\n",
       "      <td>1.000200</td>\n",
       "      <td>3.620000</td>\n",
       "      <td>0.870000</td>\n",
       "      <td>13.000000</td>\n",
       "      <td>7.000000</td>\n",
       "    </tr>\n",
       "  </tbody>\n",
       "</table>\n",
       "</div>"
      ],
      "text/plain": [
       "       fixed acidity  volatile acidity  citric acid  residual sugar  \\\n",
       "count     923.000000        923.000000   923.000000      923.000000   \n",
       "mean        7.960888          0.523982     0.228982        2.127952   \n",
       "std         1.220530          0.164545     0.168060        0.369717   \n",
       "min         5.200000          0.120000     0.000000        1.200000   \n",
       "25%         7.100000          0.390000     0.080000        1.900000   \n",
       "50%         7.700000          0.520000     0.230000        2.100000   \n",
       "75%         8.800000          0.640000     0.360000        2.400000   \n",
       "max        11.300000          0.980000     0.680000        3.100000   \n",
       "\n",
       "        chlorides  free sulfur dioxide  total sulfur dioxide     density  \\\n",
       "count  923.000000           923.000000            923.000000  923.000000   \n",
       "mean     0.077197            14.421452             38.736728    0.996436   \n",
       "std      0.012241             7.996410             21.761900    0.001437   \n",
       "min      0.046000             1.000000              6.000000    0.992800   \n",
       "25%      0.069000             8.000000             22.000000    0.995500   \n",
       "50%      0.077000            13.000000             34.000000    0.996500   \n",
       "75%      0.085000            19.000000             52.000000    0.997400   \n",
       "max      0.109000            35.000000             96.000000    1.000200   \n",
       "\n",
       "               pH   sulphates     alcohol     quality  \n",
       "count  923.000000  923.000000  923.000000  923.000000  \n",
       "mean     3.337595    0.620823   10.342434    5.631636  \n",
       "std      0.119920    0.103708    0.945626    0.716066  \n",
       "min      3.040000    0.370000    8.700000    4.000000  \n",
       "25%      3.260000    0.550000    9.500000    5.000000  \n",
       "50%      3.340000    0.600000   10.100000    6.000000  \n",
       "75%      3.410000    0.680000   11.000000    6.000000  \n",
       "max      3.620000    0.870000   13.000000    7.000000  "
      ]
     },
     "execution_count": 29,
     "metadata": {},
     "output_type": "execute_result"
    }
   ],
   "source": [
    "df1.describe()"
   ]
  },
  {
   "cell_type": "code",
   "execution_count": 30,
   "metadata": {
    "scrolled": true
   },
   "outputs": [
    {
     "data": {
      "text/plain": [
       "<matplotlib.axes._subplots.AxesSubplot at 0x243cca4b648>"
      ]
     },
     "execution_count": 30,
     "metadata": {},
     "output_type": "execute_result"
    },
    {
     "data": {
      "image/png": "[encoded data removed]",
      "text/plain": [
       "<Figure size 1440x720 with 1 Axes>"
      ]
     },
     "metadata": {
      "needs_background": "light"
     },
     "output_type": "display_data"
    }
   ],
   "source": [
    "df1_standed = df1.copy()\n",
    "df1_standed[list(df1.columns)] = stand.fit_transform(df1)\n",
    "df1_standed.boxplot(figsize=(20,10), rot=45, fontsize=15)"
   ]
  },
  {
   "cell_type": "markdown",
   "metadata": {},
   "source": [
    "Удалили все выбросы. Заметим, что изначальное число наблюдений было 1599, а стало 923 - то есть изначально в данных было порядка 676-ти выбросов."
   ]
  },
  {
   "cell_type": "markdown",
   "metadata": {},
   "source": [
    "Проверим, сбалансированны ли классы качеств вина, которые нам надо классифицировать."
   ]
  },
  {
   "cell_type": "code",
   "execution_count": 31,
   "metadata": {},
   "outputs": [
    {
     "data": {
      "text/plain": [
       "6    406\n",
       "5    388\n",
       "7    102\n",
       "4     27\n",
       "Name: quality, dtype: int64"
      ]
     },
     "execution_count": 31,
     "metadata": {},
     "output_type": "execute_result"
    }
   ],
   "source": [
    "df1['quality'].value_counts()"
   ]
  },
  {
   "cell_type": "markdown",
   "metadata": {},
   "source": [
    "Очевидно, значение качества вина равное четырем значительно меньше других. Скажем, что качество вина 4 незначительно отличается от качества вина 5, то есть 4 заменим на 5, для сбалансированности."
   ]
  },
  {
   "cell_type": "code",
   "execution_count": 32,
   "metadata": {},
   "outputs": [
    {
     "data": {
      "text/plain": [
       "5    415\n",
       "6    406\n",
       "7    102\n",
       "Name: quality, dtype: int64"
      ]
     },
     "execution_count": 32,
     "metadata": {},
     "output_type": "execute_result"
    }
   ],
   "source": [
    "df1['quality'] = df1['quality'].replace(4, 5)\n",
    "df1['quality'].value_counts()"
   ]
  },
  {
   "cell_type": "markdown",
   "metadata": {},
   "source": [
    "Заметим, что в исходном наборе данных у нас 6 классов: теперь, будем считать что три - качества 5, 6 и 7 соответственно."
   ]
  },
  {
   "cell_type": "markdown",
   "metadata": {},
   "source": [
    "Разделяем предикторы и отклики."
   ]
  },
  {
   "cell_type": "code",
   "execution_count": 33,
   "metadata": {},
   "outputs": [],
   "source": [
    "y = df1[\"quality\"]\n",
    "x = df1.drop(columns = [\"quality\"])"
   ]
  },
  {
   "cell_type": "markdown",
   "metadata": {},
   "source": [
    "Разделяем наблюдения на тестовую и обучающую выборки в пропорции 1:2."
   ]
  },
  {
   "cell_type": "code",
   "execution_count": 34,
   "metadata": {},
   "outputs": [],
   "source": [
    "x_train, x_test, y_train, y_test = train_test_split(x, y, test_size=0.33, random_state = 1337) "
   ]
  },
  {
   "cell_type": "markdown",
   "metadata": {},
   "source": [
    "Подберем параметры модели градиентного бустинга GridSearch'ем."
   ]
  },
  {
   "cell_type": "code",
   "execution_count": 35,
   "metadata": {},
   "outputs": [],
   "source": [
    "params_set = {  \n",
    "      'n_estimators': [100, 150, 200],\n",
    "      'max_depth': [3, 4, 5],\n",
    "      \"min_samples_leaf\": [3, 4 ,5],\n",
    "      \"min_samples_split\": [5, 7, 9]\n",
    "}\n",
    "\n",
    "model = GradientBoostingClassifier(random_state=54,\n",
    "                                   subsample=0.66,\n",
    "                                   max_features='sqrt',\n",
    "                                   loss='deviance',\n",
    "                                   criterion='friedman_mse',\n",
    "                                   learning_rate =0.01,\n",
    "                                   min_impurity_decrease=0.001,\n",
    "                                   verbose=0\n",
    "                                   )\n",
    "model_GS = GridSearchCV(\n",
    "    model,\n",
    "    params_set,\n",
    "    cv=5,\n",
    "    error_score='raise'\n",
    ")"
   ]
  },
  {
   "cell_type": "code",
   "execution_count": 36,
   "metadata": {},
   "outputs": [
    {
     "data": {
      "text/plain": [
       "GridSearchCV(cv=5, error_score='raise',\n",
       "             estimator=GradientBoostingClassifier(criterion='friedman_mse',\n",
       "                                                  init=None, learning_rate=0.01,\n",
       "                                                  loss='deviance', max_depth=3,\n",
       "                                                  max_features='sqrt',\n",
       "                                                  max_leaf_nodes=None,\n",
       "                                                  min_impurity_decrease=0.001,\n",
       "                                                  min_impurity_split=None,\n",
       "                                                  min_samples_leaf=1,\n",
       "                                                  min_samples_split=2,\n",
       "                                                  min_weight_fraction_leaf=0.0,\n",
       "                                                  n_estimators=100,\n",
       "                                                  n_iter_no_change=None,\n",
       "                                                  presort='auto',\n",
       "                                                  random_state=54,\n",
       "                                                  subsample=0.66, tol=0.0001,\n",
       "                                                  validation_fraction=0.1,\n",
       "                                                  verbose=0, warm_start=False),\n",
       "             iid='warn', n_jobs=None,\n",
       "             param_grid={'max_depth': [3, 4, 5], 'min_samples_leaf': [3, 4, 5],\n",
       "                         'min_samples_split': [5, 7, 9],\n",
       "                         'n_estimators': [100, 150, 200]},\n",
       "             pre_dispatch='2*n_jobs', refit=True, return_train_score=False,\n",
       "             scoring=None, verbose=0)"
      ]
     },
     "execution_count": 36,
     "metadata": {},
     "output_type": "execute_result"
    }
   ],
   "source": [
    "model_GS.fit(x_train, y_train)"
   ]
  },
  {
   "cell_type": "markdown",
   "metadata": {},
   "source": [
    "Лучшие гиперпараметры:"
   ]
  },
  {
   "cell_type": "code",
   "execution_count": 37,
   "metadata": {},
   "outputs": [
    {
     "data": {
      "text/plain": [
       "{'max_depth': 5,\n",
       " 'min_samples_leaf': 4,\n",
       " 'min_samples_split': 5,\n",
       " 'n_estimators': 200}"
      ]
     },
     "execution_count": 37,
     "metadata": {},
     "output_type": "execute_result"
    }
   ],
   "source": [
    "best_hyperparams = model_GS.best_params_\n",
    "best_hyperparams"
   ]
  },
  {
   "cell_type": "markdown",
   "metadata": {},
   "source": [
    "Лучшая модель:"
   ]
  },
  {
   "cell_type": "code",
   "execution_count": 38,
   "metadata": {},
   "outputs": [
    {
     "data": {
      "text/plain": [
       "GradientBoostingClassifier(criterion='friedman_mse', init=None,\n",
       "                           learning_rate=0.01, loss='deviance', max_depth=5,\n",
       "                           max_features='sqrt', max_leaf_nodes=None,\n",
       "                           min_impurity_decrease=0.001, min_impurity_split=None,\n",
       "                           min_samples_leaf=4, min_samples_split=5,\n",
       "                           min_weight_fraction_leaf=0.0, n_estimators=200,\n",
       "                           n_iter_no_change=None, presort='auto',\n",
       "                           random_state=54, subsample=0.66, tol=0.0001,\n",
       "                           validation_fraction=0.1, verbose=0,\n",
       "                           warm_start=False)"
      ]
     },
     "execution_count": 38,
     "metadata": {},
     "output_type": "execute_result"
    }
   ],
   "source": [
    "best_model = model_GS.best_estimator_\n",
    "best_model"
   ]
  },
  {
   "cell_type": "code",
   "execution_count": 39,
   "metadata": {},
   "outputs": [
    {
     "name": "stdout",
     "output_type": "stream",
     "text": [
      "Лучшее значение критерия качества deviance на обучающей выборке составило 68.28%.\n",
      "Лучшее значение критерия качества deviance на тестовой выборке составило 67.54%.\n"
     ]
    }
   ],
   "source": [
    "train_acc = model_GS.best_score_\n",
    "test_acc = model_GS.score(x_test,y_test)\n",
    "print(f\"Лучшее значение критерия качества deviance на обучающей выборке составило {np.round(train_acc*100, 2)}%.\")\n",
    "print(f\"Лучшее значение критерия качества deviance на тестовой выборке составило {np.round(test_acc*100, 2)}%.\")"
   ]
  },
  {
   "cell_type": "markdown",
   "metadata": {},
   "source": [
    "Как видим, поскольку значения критерия качества deviance на обучающей и тестовой выборке отличаются не сильно, то мы избежали переобучения модели."
   ]
  },
  {
   "cell_type": "code",
   "execution_count": 40,
   "metadata": {},
   "outputs": [
    {
     "name": "stdout",
     "output_type": "stream",
     "text": [
      "Доля наблюдений в тестовой выборке, для которых есть класс, вероятность принадлежать которому больше 0.8, составила 0.06.\n"
     ]
    }
   ],
   "source": [
    "probabilities_GS = best_model.predict_proba(x_test)\n",
    "print(\"Доля наблюдений в тестовой выборке, для которых есть класс, вероятность принадлежать которому больше 0.8, составила\",\n",
    "      f\"{np.round(len(probabilities_GS[probabilities_GS > 0.8]) / len(probabilities_GS), 2)}.\")"
   ]
  },
  {
   "cell_type": "markdown",
   "metadata": {},
   "source": [
    "Confusion matrix:"
   ]
  },
  {
   "cell_type": "code",
   "execution_count": 41,
   "metadata": {},
   "outputs": [
    {
     "data": {
      "text/html": [
       "<div>\n",
       "<style scoped>\n",
       "    .dataframe tbody tr th:only-of-type {\n",
       "        vertical-align: middle;\n",
       "    }\n",
       "\n",
       "    .dataframe tbody tr th {\n",
       "        vertical-align: top;\n",
       "    }\n",
       "\n",
       "    .dataframe thead th {\n",
       "        text-align: right;\n",
       "    }\n",
       "</style>\n",
       "<table border=\"1\" class=\"dataframe\">\n",
       "  <thead>\n",
       "    <tr style=\"text-align: right;\">\n",
       "      <th></th>\n",
       "      <th>5</th>\n",
       "      <th>6</th>\n",
       "      <th>7</th>\n",
       "    </tr>\n",
       "  </thead>\n",
       "  <tbody>\n",
       "    <tr>\n",
       "      <td>5</td>\n",
       "      <td>102</td>\n",
       "      <td>32</td>\n",
       "      <td>0</td>\n",
       "    </tr>\n",
       "    <tr>\n",
       "      <td>6</td>\n",
       "      <td>42</td>\n",
       "      <td>92</td>\n",
       "      <td>2</td>\n",
       "    </tr>\n",
       "    <tr>\n",
       "      <td>7</td>\n",
       "      <td>1</td>\n",
       "      <td>22</td>\n",
       "      <td>12</td>\n",
       "    </tr>\n",
       "  </tbody>\n",
       "</table>\n",
       "</div>"
      ],
      "text/plain": [
       "     5   6   7\n",
       "5  102  32   0\n",
       "6   42  92   2\n",
       "7    1  22  12"
      ]
     },
     "execution_count": 41,
     "metadata": {},
     "output_type": "execute_result"
    }
   ],
   "source": [
    "conf_mat = confusion_matrix(y_test, best_model.predict(x_test))\n",
    "conf_mat = pd.DataFrame(conf_mat, index=best_model.classes_, columns=best_model.classes_)\n",
    "conf_mat"
   ]
  },
  {
   "cell_type": "markdown",
   "metadata": {},
   "source": [
    "Значимость переменных в классифицкаиции с нахождением параметров GridSearch'ем."
   ]
  },
  {
   "cell_type": "code",
   "execution_count": 42,
   "metadata": {},
   "outputs": [
    {
     "data": {
      "text/html": [
       "<div>\n",
       "<style scoped>\n",
       "    .dataframe tbody tr th:only-of-type {\n",
       "        vertical-align: middle;\n",
       "    }\n",
       "\n",
       "    .dataframe tbody tr th {\n",
       "        vertical-align: top;\n",
       "    }\n",
       "\n",
       "    .dataframe thead th {\n",
       "        text-align: right;\n",
       "    }\n",
       "</style>\n",
       "<table border=\"1\" class=\"dataframe\">\n",
       "  <thead>\n",
       "    <tr style=\"text-align: right;\">\n",
       "      <th></th>\n",
       "      <th>feature</th>\n",
       "      <th>importance</th>\n",
       "    </tr>\n",
       "  </thead>\n",
       "  <tbody>\n",
       "    <tr>\n",
       "      <td>10</td>\n",
       "      <td>alcohol</td>\n",
       "      <td>0.197727</td>\n",
       "    </tr>\n",
       "    <tr>\n",
       "      <td>9</td>\n",
       "      <td>sulphates</td>\n",
       "      <td>0.153218</td>\n",
       "    </tr>\n",
       "    <tr>\n",
       "      <td>1</td>\n",
       "      <td>volatile acidity</td>\n",
       "      <td>0.106897</td>\n",
       "    </tr>\n",
       "    <tr>\n",
       "      <td>7</td>\n",
       "      <td>density</td>\n",
       "      <td>0.103275</td>\n",
       "    </tr>\n",
       "    <tr>\n",
       "      <td>4</td>\n",
       "      <td>chlorides</td>\n",
       "      <td>0.075341</td>\n",
       "    </tr>\n",
       "    <tr>\n",
       "      <td>2</td>\n",
       "      <td>citric acid</td>\n",
       "      <td>0.069394</td>\n",
       "    </tr>\n",
       "    <tr>\n",
       "      <td>6</td>\n",
       "      <td>total sulfur dioxide</td>\n",
       "      <td>0.067213</td>\n",
       "    </tr>\n",
       "    <tr>\n",
       "      <td>0</td>\n",
       "      <td>fixed acidity</td>\n",
       "      <td>0.062093</td>\n",
       "    </tr>\n",
       "    <tr>\n",
       "      <td>8</td>\n",
       "      <td>pH</td>\n",
       "      <td>0.060037</td>\n",
       "    </tr>\n",
       "    <tr>\n",
       "      <td>3</td>\n",
       "      <td>residual sugar</td>\n",
       "      <td>0.057651</td>\n",
       "    </tr>\n",
       "    <tr>\n",
       "      <td>5</td>\n",
       "      <td>free sulfur dioxide</td>\n",
       "      <td>0.047155</td>\n",
       "    </tr>\n",
       "  </tbody>\n",
       "</table>\n",
       "</div>"
      ],
      "text/plain": [
       "                 feature  importance\n",
       "10               alcohol    0.197727\n",
       "9              sulphates    0.153218\n",
       "1       volatile acidity    0.106897\n",
       "7                density    0.103275\n",
       "4              chlorides    0.075341\n",
       "2            citric acid    0.069394\n",
       "6   total sulfur dioxide    0.067213\n",
       "0          fixed acidity    0.062093\n",
       "8                     pH    0.060037\n",
       "3         residual sugar    0.057651\n",
       "5    free sulfur dioxide    0.047155"
      ]
     },
     "execution_count": 42,
     "metadata": {},
     "output_type": "execute_result"
    }
   ],
   "source": [
    "pd.DataFrame({'feature': df1.iloc[:, :-1].columns,\n",
    "              'importance': best_model.feature_importances_}).sort_values('importance', ascending=False)"
   ]
  },
  {
   "cell_type": "markdown",
   "metadata": {},
   "source": [
    "Признаем все переменные значимыми, ничего отбрасывать не нужно."
   ]
  },
  {
   "cell_type": "code",
   "execution_count": 44,
   "metadata": {},
   "outputs": [
    {
     "name": "stdout",
     "output_type": "stream",
     "text": [
      "              precision    recall  f1-score   support\n",
      "\n",
      "           5       0.70      0.76      0.73       134\n",
      "           6       0.63      0.68      0.65       136\n",
      "           7       0.86      0.34      0.49        35\n",
      "\n",
      "    accuracy                           0.68       305\n",
      "   macro avg       0.73      0.59      0.62       305\n",
      "weighted avg       0.69      0.68      0.67       305\n",
      "\n"
     ]
    }
   ],
   "source": [
    "y_pred_test = best_model.predict(x_test)\n",
    "print(classification_report(y_test, y_pred_test))"
   ]
  },
  {
   "cell_type": "markdown",
   "metadata": {},
   "source": [
    "Перейдем к калибровке модели."
   ]
  },
  {
   "cell_type": "code",
   "execution_count": 45,
   "metadata": {},
   "outputs": [],
   "source": [
    "model_calibrated = CalibratedClassifierCV(best_model, cv=5, method='sigmoid')\n",
    "model_calibrated.fit(x_train, y_train)\n",
    "y_pred_train_calibrated = model_calibrated.predict(x_train)\n",
    "y_pred_test_calibrated = model_calibrated.predict(x_test)\n",
    "probabilities_calibrated = model_calibrated.predict_proba(x_test)"
   ]
  },
  {
   "cell_type": "code",
   "execution_count": 46,
   "metadata": {},
   "outputs": [
    {
     "name": "stdout",
     "output_type": "stream",
     "text": [
      "Лучшее accuracy на обучающей выборке составило 87.86%.\n",
      "Лучшее accuracy на тестовой выборке составило 68.85%.\n",
      "Доля наблюдений в тестовой выборке, для которых есть класс, вероятность принадлежать которому больше 0.8, составила 0.06.\n"
     ]
    }
   ],
   "source": [
    "print(f\"Лучшее accuracy на обучающей выборке составило {np.round(accuracy_score(y_train, y_pred_train_calibrated)*100, 2)}%.\")\n",
    "print(f\"Лучшее accuracy на тестовой выборке составило {np.round(accuracy_score(y_test, y_pred_test_calibrated)*100, 2)}%.\")\n",
    "print(\"Доля наблюдений в тестовой выборке, для которых есть класс, вероятность принадлежать которому больше 0.8, составила\",\n",
    "      f\"{np.round(len(probabilities_calibrated[probabilities_calibrated > 0.8]) / len(probabilities_calibrated), 2)}.\")"
   ]
  },
  {
   "cell_type": "code",
   "execution_count": 47,
   "metadata": {},
   "outputs": [
    {
     "data": {
      "text/html": [
       "<div>\n",
       "<style scoped>\n",
       "    .dataframe tbody tr th:only-of-type {\n",
       "        vertical-align: middle;\n",
       "    }\n",
       "\n",
       "    .dataframe tbody tr th {\n",
       "        vertical-align: top;\n",
       "    }\n",
       "\n",
       "    .dataframe thead th {\n",
       "        text-align: right;\n",
       "    }\n",
       "</style>\n",
       "<table border=\"1\" class=\"dataframe\">\n",
       "  <thead>\n",
       "    <tr style=\"text-align: right;\">\n",
       "      <th></th>\n",
       "      <th>5</th>\n",
       "      <th>6</th>\n",
       "      <th>7</th>\n",
       "    </tr>\n",
       "  </thead>\n",
       "  <tbody>\n",
       "    <tr>\n",
       "      <td>5</td>\n",
       "      <td>105</td>\n",
       "      <td>29</td>\n",
       "      <td>0</td>\n",
       "    </tr>\n",
       "    <tr>\n",
       "      <td>6</td>\n",
       "      <td>44</td>\n",
       "      <td>91</td>\n",
       "      <td>1</td>\n",
       "    </tr>\n",
       "    <tr>\n",
       "      <td>7</td>\n",
       "      <td>3</td>\n",
       "      <td>18</td>\n",
       "      <td>14</td>\n",
       "    </tr>\n",
       "  </tbody>\n",
       "</table>\n",
       "</div>"
      ],
      "text/plain": [
       "     5   6   7\n",
       "5  105  29   0\n",
       "6   44  91   1\n",
       "7    3  18  14"
      ]
     },
     "execution_count": 47,
     "metadata": {},
     "output_type": "execute_result"
    }
   ],
   "source": [
    "conf_mat_calibrated = confusion_matrix(y_test, model_calibrated.predict(x_test))\n",
    "conf_mat_calibrated = pd.DataFrame(conf_mat_calibrated, index=model_calibrated.classes_, columns=model_calibrated.classes_)\n",
    "conf_mat_calibrated"
   ]
  },
  {
   "cell_type": "code",
   "execution_count": 48,
   "metadata": {},
   "outputs": [
    {
     "name": "stdout",
     "output_type": "stream",
     "text": [
      "Другие метрики качества лучшей откалиброванной модели:\n",
      "\n",
      "              precision    recall  f1-score   support\n",
      "\n",
      "           5       0.69      0.78      0.73       134\n",
      "           6       0.66      0.67      0.66       136\n",
      "           7       0.93      0.40      0.56        35\n",
      "\n",
      "    accuracy                           0.69       305\n",
      "   macro avg       0.76      0.62      0.65       305\n",
      "weighted avg       0.70      0.69      0.68       305\n",
      "\n"
     ]
    }
   ],
   "source": [
    "print(\"Другие метрики качества лучшей откалиброванной модели:\\n\")\n",
    "print(classification_report(y_test, y_pred_test_calibrated))"
   ]
  },
  {
   "cell_type": "markdown",
   "metadata": {},
   "source": [
    "Вывод: таким образом, в ходе лабораторной работы была выполнена обработка данных (избавление от выбросов, количество которых составило более шестисот наблюдений), после чего была получена модель GridSearch'ем, объем обучающей выборки был 66% от исходной выборки, а тестовой - 33%. Все параметры модели оказались значимы.\n",
    "\n",
    "После чего была проведена калибровка модели, признанной наилучшей. На выходе была получена модель классификации (откалиброванная), основанная на использованнии градиентного бустинга, которая имееет на тестовой выборке accuracy 68.85%, а на обучающей - 87.86% - другими словами, только каждое третье наблюдение из тестовой выборки будет классифицировано неправильно.\n",
    "\n",
    "Также была оценена доля наблюдений в тестовой выборке, для которых есть класс, вероятность принадлежать которому больше 0.8 - она составила 0.06.\n",
    "\n",
    "Стоит отметить, что по сравнению с предыдущими лабораторными работой, в которой исползовалось одно дерево классификации и случайный лес - по сравнению с одним деревом классфикации, использование градиентного бустинга позволило улучшить качество модели почти на 4%, а по сравнению со случайным лесом - результаты оказались почти одинаковые (68.5% у случайного леса и 68.85% у градиентного бустинга)."
   ]
  },
  {
   "cell_type": "code",
   "execution_count": null,
   "metadata": {},
   "outputs": [],
   "source": []
  }
 ],
 "metadata": {
  "kernelspec": {
   "display_name": "Python 3",
   "language": "python",
   "name": "python3"
  },
  "language_info": {
   "codemirror_mode": {
    "name": "ipython",
    "version": 3
   },
   "file_extension": ".py",
   "mimetype": "text/x-python",
   "name": "python",
   "nbconvert_exporter": "python",
   "pygments_lexer": "ipython3",
   "version": "3.7.4"
  }
 },
 "nbformat": 4,
 "nbformat_minor": 2
}
