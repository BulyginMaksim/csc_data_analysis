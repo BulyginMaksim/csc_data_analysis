{
 "cells": [
  {
   "cell_type": "code",
   "execution_count": 130,
   "metadata": {},
   "outputs": [],
   "source": [
    "import pandas as pd\n",
    "import numpy as np\n",
    "import matplotlib\n",
    "import matplotlib.pyplot as plt\n",
    "import random"
   ]
  },
  {
   "cell_type": "markdown",
   "metadata": {},
   "source": [
    "Подключаем библиотеки."
   ]
  },
  {
   "cell_type": "markdown",
   "metadata": {},
   "source": [
    "## Лабораторная работа 1.\n",
    "### Вариант 1."
   ]
  },
  {
   "cell_type": "markdown",
   "metadata": {},
   "source": [
    "В купейный вагон (9 купе по 4 места) семи пассажирам продано семь билетов. Найти вероятность того, что оказались занятыми ровно три купе."
   ]
  },
  {
   "cell_type": "markdown",
   "metadata": {},
   "source": [
    "Пространство элементарных исходов - 9 купе, в каждом 4 места - то есть четыре 1, четыре 2, ..., четыре 9. Пусть первое купе - 1, второе - 2, ..., девятое - 9, тогда пространство элементарных исходов следущее:"
   ]
  },
  {
   "cell_type": "code",
   "execution_count": 131,
   "metadata": {},
   "outputs": [
    {
     "data": {
      "text/plain": [
       "[1,\n",
       " 1,\n",
       " 1,\n",
       " 1,\n",
       " 2,\n",
       " 2,\n",
       " 2,\n",
       " 2,\n",
       " 3,\n",
       " 3,\n",
       " 3,\n",
       " 3,\n",
       " 4,\n",
       " 4,\n",
       " 4,\n",
       " 4,\n",
       " 5,\n",
       " 5,\n",
       " 5,\n",
       " 5,\n",
       " 6,\n",
       " 6,\n",
       " 6,\n",
       " 6,\n",
       " 7,\n",
       " 7,\n",
       " 7,\n",
       " 7,\n",
       " 8,\n",
       " 8,\n",
       " 8,\n",
       " 8,\n",
       " 9,\n",
       " 9,\n",
       " 9,\n",
       " 9]"
      ]
     },
     "execution_count": 131,
     "metadata": {},
     "output_type": "execute_result"
    }
   ],
   "source": [
    "a_lab_1 = []\n",
    "for i in range(9):\n",
    "    a_lab_1 += [i+1]*4\n",
    "a_lab_1"
   ]
  },
  {
   "cell_type": "markdown",
   "metadata": {},
   "source": [
    "Истинное значение вероятности того что будут заняты три купе, мало, поэтому установим погрешность экспериментальной вероятности в 4 знака после запятой."
   ]
  },
  {
   "cell_type": "code",
   "execution_count": 132,
   "metadata": {},
   "outputs": [
    {
     "name": "stdout",
     "output_type": "stream",
     "text": [
      "Вероятность того, что заняты будут ровно три купе равна 0.0077\n"
     ]
    }
   ],
   "source": [
    "n1_lab1 = 10**7 #количество экспериментов\n",
    "prob1_lab1 = []\n",
    "random.seed(a=42, version=2) \n",
    "k_success1_lab1 = 0\n",
    "for i in range(n1_lab1):\n",
    "    result_exp = random.sample(a_lab_1, 7) #случайный выбор 7 элементов из пространства элементарных исходов без возращения\n",
    "    num_ocup_comp = 0\n",
    "    for j in range(9): #находим количество занятых купе\n",
    "        if j+1 in result_exp:\n",
    "            num_ocup_comp += 1\n",
    "    if num_ocup_comp == 3: #смотрим, заняты три купе или нет, если заняты три - увеличиваем число успехов на единицу\n",
    "        k_success1_lab1 += 1\n",
    "    prob1_lab1.append(k_success1_lab1/(i+1))\n",
    "print('Вероятность того, что заняты будут ровно три купе равна',np.round(k_success1_lab1/n1_lab1, 4))"
   ]
  },
  {
   "cell_type": "code",
   "execution_count": 133,
   "metadata": {},
   "outputs": [
    {
     "name": "stdout",
     "output_type": "stream",
     "text": [
      "0.0077\n",
      "0.0077\n"
     ]
    }
   ],
   "source": [
    "print(np.round(min(prob1_lab1[int(n1_lab1/2):]),4))\n",
    "print(np.round(max(prob1_lab1[int(n1_lab1/2):]),4))"
   ]
  },
  {
   "cell_type": "code",
   "execution_count": 134,
   "metadata": {},
   "outputs": [
    {
     "name": "stdout",
     "output_type": "stream",
     "text": [
      "[<matplotlib.lines.Line2D object at 0x00000294BE98E448>]\n"
     ]
    },
    {
     "data": {
      "image/png": "[encoded data removed]",
      "text/plain": [
       "<Figure size 432x288 with 1 Axes>"
      ]
     },
     "metadata": {
      "needs_background": "light"
     },
     "output_type": "display_data"
    }
   ],
   "source": [
    "print(plt.plot(prob1_lab1[int(n1_lab1/2):]))"
   ]
  },
  {
   "cell_type": "markdown",
   "metadata": {},
   "source": [
    "Из графика и соображений ЗБЧ видно, что при увеличении испытаний, амплитуда колебания вероятности будет только уменьшаться (то есть экспериментальная вероятность будет сходится к истинной), а значит, рассмотрим худшие варианты на графике - это верхняя и нижняя границы для экспериментов $n \\in [\\frac{10^7}{2},10^7]$ . Видно, что округляя худшие варианты на этом отрезке до двух знаков после запятой, будет получаться значение $0.0077$, а значит для  $n > 10^7$ , по ЗБЧ, тоже будет получаться значение экспериментальной вероятности, равное $0.0077$. Проверим это, увеличив количество испытаний в два раза."
   ]
  },
  {
   "cell_type": "code",
   "execution_count": 135,
   "metadata": {},
   "outputs": [
    {
     "name": "stdout",
     "output_type": "stream",
     "text": [
      "Вероятность того, что заняты будут ровно три купе равна 0.0077\n"
     ]
    }
   ],
   "source": [
    "n2_lab1 = 2*(10**7)\n",
    "prob2_lab1 = []\n",
    "random.seed(a=54, version=2)\n",
    "k_success2_lab1 = 0\n",
    "for i in range(n2_lab1):\n",
    "    result_exp = random.sample(a_lab_1, 7)\n",
    "    num_ocup_comp = 0\n",
    "    for j in range(9):\n",
    "        if j+1 in result_exp:\n",
    "            num_ocup_comp += 1\n",
    "    if num_ocup_comp == 3:\n",
    "        k_success2_lab1 += 1\n",
    "    prob2_lab1.append(k_success2_lab1/(i+1))\n",
    "print('Вероятность того, что заняты будут ровно три купе равна',np.round(k_success2_lab1/n2_lab1, 4))"
   ]
  },
  {
   "cell_type": "code",
   "execution_count": 136,
   "metadata": {},
   "outputs": [
    {
     "name": "stdout",
     "output_type": "stream",
     "text": [
      "[<matplotlib.lines.Line2D object at 0x000002958536F9C8>]\n"
     ]
    },
    {
     "data": {
      "image/png": "[encoded data removed]",
      "text/plain": [
       "<Figure size 432x288 with 1 Axes>"
      ]
     },
     "metadata": {
      "needs_background": "light"
     },
     "output_type": "display_data"
    }
   ],
   "source": [
    "print(plt.plot(prob2_lab1[int(n2_lab1/2) :]))"
   ]
  },
  {
   "cell_type": "code",
   "execution_count": 137,
   "metadata": {},
   "outputs": [
    {
     "name": "stdout",
     "output_type": "stream",
     "text": [
      "0.0077\n",
      "0.0077\n"
     ]
    }
   ],
   "source": [
    "print(np.round(min(prob2_lab1[int(n2_lab1/2):]),4))\n",
    "print(np.round(max(prob2_lab1[int(n2_lab1/2):]),4))"
   ]
  },
  {
   "cell_type": "markdown",
   "metadata": {},
   "source": [
    "Предположения подтвердились: увелечив количество испытаний в два раза, мы получили экспериментальное значение вероятности, равное $0.0077$, а, по графику, экспериментальная вероятность только больше и сильнее начала сходиться к истинной вероятности."
   ]
  },
  {
   "cell_type": "markdown",
   "metadata": {},
   "source": [
    "Таким образом, приближенное значение вероятности того, что оказались занятыми ровно три купе, равно $0.0077$ (погрешность - четыре знака после запятой). Также было продемонстрировано, что это экспериментальное значение вероятности устойчиво: с увеличением количества испытаний в два раза результат не поменялся."
   ]
  },
  {
   "cell_type": "markdown",
   "metadata": {},
   "source": [
    "## Лабораторная работа 2.\n",
    "### Вариант 1."
   ]
  },
  {
   "cell_type": "markdown",
   "metadata": {},
   "source": [
    "Колода игральных карт содержит 52 карты, разделяющиеся на 4 различные масти по 13 карт в каждой. Предположим, что колода тщательно перетасована, так что вытаскивание любой карты одинаково вероятно. Вытащим 6 из них. Найти вероятность того, что среди выбранных карт карт пиковой масти будет больше, чем карт червовой масти."
   ]
  },
  {
   "cell_type": "markdown",
   "metadata": {},
   "source": [
    "Пространство элементарных исходов - 52 карты, 13 из которых пики, 13 из которых бубы, 13 из которых черви и 13 из которых трефы. Обозначим пики как 1, черви как 2, трефы как 3, бубы как 4, тогда пространство элементарных исходов имеет вид:"
   ]
  },
  {
   "cell_type": "code",
   "execution_count": 138,
   "metadata": {},
   "outputs": [
    {
     "data": {
      "text/plain": [
       "[1,\n",
       " 1,\n",
       " 1,\n",
       " 1,\n",
       " 1,\n",
       " 1,\n",
       " 1,\n",
       " 1,\n",
       " 1,\n",
       " 1,\n",
       " 1,\n",
       " 1,\n",
       " 1,\n",
       " 2,\n",
       " 2,\n",
       " 2,\n",
       " 2,\n",
       " 2,\n",
       " 2,\n",
       " 2,\n",
       " 2,\n",
       " 2,\n",
       " 2,\n",
       " 2,\n",
       " 2,\n",
       " 2,\n",
       " 3,\n",
       " 3,\n",
       " 3,\n",
       " 3,\n",
       " 3,\n",
       " 3,\n",
       " 3,\n",
       " 3,\n",
       " 3,\n",
       " 3,\n",
       " 3,\n",
       " 3,\n",
       " 3,\n",
       " 4,\n",
       " 4,\n",
       " 4,\n",
       " 4,\n",
       " 4,\n",
       " 4,\n",
       " 4,\n",
       " 4,\n",
       " 4,\n",
       " 4,\n",
       " 4,\n",
       " 4,\n",
       " 4]"
      ]
     },
     "execution_count": 138,
     "metadata": {},
     "output_type": "execute_result"
    }
   ],
   "source": [
    "a_lab_2 = []\n",
    "for i in range(4):\n",
    "    a_lab_2 += [i+1]*13\n",
    "a_lab_2"
   ]
  },
  {
   "cell_type": "markdown",
   "metadata": {},
   "source": [
    "Вероятность того, что среди выбранных шести карт карт пиковой масти будет больше, чем карт червовой масти, не мала, поэтому установим погрешность экспериментальной вероятности в два знака после запятой (иначе - значение экспериментальной вероятности будет нестабильно и будет скакать)."
   ]
  },
  {
   "cell_type": "code",
   "execution_count": 139,
   "metadata": {},
   "outputs": [
    {
     "name": "stdout",
     "output_type": "stream",
     "text": [
      "Вероятность того, что среди этих карт будет карт пиковой масти будет больше, чем карт червовой масти равна 0.38\n"
     ]
    }
   ],
   "source": [
    "n1_lab2 = 10**7 #количество экспериментов\n",
    "prob1_lab2 = []\n",
    "random.seed(a=43, version=2)\n",
    "k_success1_lab2 = 0\n",
    "for i in range(n1_lab2):\n",
    "    result_exp = random.sample(a_lab_2, 6) #выбор 6 элементов без возращения из пространства элементарных исходов\n",
    "    num_pick = 0 #количество карт пиковой масти в данном эксперименте\n",
    "    num_cherv = 0 #количество карт червовой масти в данном эксперименте\n",
    "    for j in result_exp: #находим количество карт пиковой и червовой мастей\n",
    "        if j == 1:\n",
    "            num_pick +=1\n",
    "        elif j == 2:\n",
    "            num_cherv += 1\n",
    "    if num_pick > num_cherv: #если пик в данном эксперименте червей, то увеличиваем число успехов на единицу\n",
    "        k_success1_lab2 += 1\n",
    "    prob1_lab2.append(k_success1_lab2/(i+1))\n",
    "print('Вероятность того, что среди этих карт будет карт пиковой масти будет больше,',\n",
    "      'чем карт червовой масти равна',np.round(k_success1_lab2/n1_lab2, 2))"
   ]
  },
  {
   "cell_type": "code",
   "execution_count": 140,
   "metadata": {},
   "outputs": [
    {
     "name": "stdout",
     "output_type": "stream",
     "text": [
      "[<matplotlib.lines.Line2D object at 0x000002958A517248>]\n"
     ]
    },
    {
     "data": {
      "image/png": "[encoded data removed]",
      "text/plain": [
       "<Figure size 432x288 with 1 Axes>"
      ]
     },
     "metadata": {
      "needs_background": "light"
     },
     "output_type": "display_data"
    }
   ],
   "source": [
    "print(plt.plot(prob1_lab2[int(n1_lab2/2):]))"
   ]
  },
  {
   "cell_type": "code",
   "execution_count": 141,
   "metadata": {},
   "outputs": [
    {
     "name": "stdout",
     "output_type": "stream",
     "text": [
      "0.38\n",
      "0.38\n"
     ]
    }
   ],
   "source": [
    "print(np.round(min(prob1_lab2[int(n1_lab2/2):]),2))\n",
    "print(np.round(max(prob1_lab2[int(n1_lab2/2):]),2))"
   ]
  },
  {
   "cell_type": "markdown",
   "metadata": {},
   "source": [
    "Из графика и соображений ЗБЧ видно, что при увеличении испытаний, амплитуда колебания вероятности будет только уменьшаться (то есть экспериментальная вероятность будет сходится к истинной), а значит, рассмотрим худшие варианты на графике - это верхняя и нижняя границы для экспериментов $n \\in [\\frac{10^7}{2},10^7]$. Видно, что округляя худшие варианты на этом отрезке до двух знаков после запятой, будет получаться значение  $0.38$, а значит для  $n > 10^7$, по ЗБЧ, тоже будет получаться значение экспериментальной вероятности, равное  $0.38$ . Проверим это, увеличив количество испытаний в два раза."
   ]
  },
  {
   "cell_type": "code",
   "execution_count": 142,
   "metadata": {},
   "outputs": [
    {
     "name": "stdout",
     "output_type": "stream",
     "text": [
      "Вероятность того, что среди этих карт будет карт пиковой масти будет больше, чем карт червовой масти равна 0.38\n"
     ]
    }
   ],
   "source": [
    "n2_lab2 = 2*(10**7) #количество экспериментов\n",
    "prob2_lab2 = []\n",
    "random.seed(a=54, version=2)\n",
    "k_success2_lab2 = 0\n",
    "for i in range(n2_lab2):\n",
    "    result_exp = random.sample(a_lab_2, 6) #выбор 6 элементов без возращения из пространства элементарных исходов\n",
    "    num_pick = 0 #количество карт пиковой масти в данном эксперименте\n",
    "    num_cherv = 0 #количество карт червовой масти в данном эксперименте\n",
    "    for j in result_exp: #находим количество карт пиковой и червовой мастей\n",
    "        if j == 1:\n",
    "            num_pick +=1\n",
    "        elif j == 2:\n",
    "            num_cherv += 1\n",
    "    if num_pick > num_cherv: #если пик в данном эксперименте червей, то увеличиваем число успехов на единицу\n",
    "        k_success2_lab2 += 1\n",
    "    prob2_lab2.append(k_success2_lab2/(i+1))\n",
    "print('Вероятность того, что среди этих карт будет карт пиковой масти будет больше,',\n",
    "      'чем карт червовой масти равна',np.round(k_success2_lab2/n2_lab2, 2))"
   ]
  },
  {
   "cell_type": "code",
   "execution_count": 143,
   "metadata": {},
   "outputs": [
    {
     "name": "stdout",
     "output_type": "stream",
     "text": [
      "[<matplotlib.lines.Line2D object at 0x000002955C920E48>]\n"
     ]
    },
    {
     "data": {
      "image/png": "[encoded data removed]",
      "text/plain": [
       "<Figure size 432x288 with 1 Axes>"
      ]
     },
     "metadata": {
      "needs_background": "light"
     },
     "output_type": "display_data"
    }
   ],
   "source": [
    "print(plt.plot(prob2_lab2[int(n2_lab2/2):]))"
   ]
  },
  {
   "cell_type": "code",
   "execution_count": 144,
   "metadata": {},
   "outputs": [
    {
     "name": "stdout",
     "output_type": "stream",
     "text": [
      "0.38\n",
      "0.38\n"
     ]
    }
   ],
   "source": [
    "print(np.round(min(prob2_lab2[int(n2_lab2/2):]),2))\n",
    "print(np.round(max(prob2_lab2[int(n2_lab2/2):]),2))"
   ]
  },
  {
   "cell_type": "markdown",
   "metadata": {},
   "source": [
    "Предположения подтвердились: увелечив количество испытаний в два раза, мы получили экспериментальное значение вероятности, равное $0.38$, а, по графику, экспериментальная вероятность только больше и сильнее начала сходиться к истинной вероятности."
   ]
  },
  {
   "cell_type": "markdown",
   "metadata": {},
   "source": [
    "Таким образом, приближенное значение вероятности того, что среди выбранных шести карт карт пиковой масти будет больше, чем карт червовой масти, равно  $0.38$  (погрешность - два знака после запятой). Также было продемонстрировано, что это экспериментальное значение вероятности устойчиво: с увеличением количества испытаний в два раза результат не поменялся."
   ]
  },
  {
   "cell_type": "markdown",
   "metadata": {},
   "source": [
    "## Лабораторная работа 3.\n",
    "### Вариант 1."
   ]
  },
  {
   "cell_type": "markdown",
   "metadata": {},
   "source": [
    "В квадрат с вершинами $(0, 0), (0, 1), (1,0), (1,1)$ наудачу брошена точка М. Пусть $(x, y)$ будут ее координаты. Предполагается, что вероятность попадания в область, лежащую целиком внутри квадрата, зависит лишь от площади этой области и пропорциональна ей.\n",
    "Найти для $z = \\frac{1}{4}$ $Р(|x-y|<z)$, то есть найти вероятность того, что $Р(|x-y|<\\frac{1}{4})$."
   ]
  },
  {
   "cell_type": "markdown",
   "metadata": {},
   "source": [
    "Считаем, что координаты $x,y$ точки $M$ распределены равномерно на $[0,1]$. Истинное значение искомой вероятности, исходя из геометрической вероятности, равно $\\frac{7}{16} = 0.4375$. Поэтому, разумно будет поставить точность экспериментов как два знака после запятой - иначе (в случае 3-х знаков, например), значение экспериментальной вероятности будет нестабильно и будет скакать между $0.438$ и $0.437$."
   ]
  },
  {
   "cell_type": "code",
   "execution_count": 145,
   "metadata": {},
   "outputs": [
    {
     "name": "stdout",
     "output_type": "stream",
     "text": [
      "Вероятность равна 0.44\n",
      "Истинная вероятность равна 0.4375\n"
     ]
    }
   ],
   "source": [
    "n1_lab3 = 10**6 #количество экспериментов\n",
    "random.seed(a=42, version=2)\n",
    "prob1_lab3 = []\n",
    "k_success1_lab3 = 0\n",
    "for i in range(n1_lab3):\n",
    "    result_exp = np.random.uniform(0.0, 1.0, 2) #бросаем точку в [0,1]*[0,1]\n",
    "    if abs(result_exp[1]-result_exp[0]) < 1/4: #провереям, модуль разности координат меньше 1/4 или нет\n",
    "        k_success1_lab3 += 1\n",
    "    prob1_lab3.append(k_success1_lab3/(i+1))\n",
    "print('Вероятность равна',np.round(k_success1_lab3/n1_lab3, 2))\n",
    "print('Истинная вероятность равна',7/16)"
   ]
  },
  {
   "cell_type": "code",
   "execution_count": 146,
   "metadata": {},
   "outputs": [
    {
     "name": "stdout",
     "output_type": "stream",
     "text": [
      "[<matplotlib.lines.Line2D object at 0x0000029563DCA988>]\n"
     ]
    },
    {
     "data": {
      "image/png": "[encoded data removed]",
      "text/plain": [
       "<Figure size 432x288 with 1 Axes>"
      ]
     },
     "metadata": {
      "needs_background": "light"
     },
     "output_type": "display_data"
    }
   ],
   "source": [
    "print(plt.plot(prob1_lab3[int(n1_lab3/2) :]))"
   ]
  },
  {
   "cell_type": "code",
   "execution_count": 147,
   "metadata": {},
   "outputs": [
    {
     "name": "stdout",
     "output_type": "stream",
     "text": [
      "0.44\n",
      "0.44\n"
     ]
    }
   ],
   "source": [
    "print(np.round(min(prob1_lab3[int(n1_lab3/2):]),2))\n",
    "print(np.round(max(prob1_lab3[int(n1_lab3/2):]),2))"
   ]
  },
  {
   "cell_type": "markdown",
   "metadata": {},
   "source": [
    "Из графика и соображений ЗБЧ видно, что при увеличении испытаний, амплитуда колебания вероятности будет только уменьшаться (то есть экспериментальная вероятность будет сходится к истинной), а значит, рассмотрим худшие варианты на графике - это верхняя и нижняя границы для экспериментов $n \\in [\\frac{10^6}{2},10^6]$. Видно, что округляя худшие варианты на этом отрезке до двух знаков после запятой, будет получаться значение $0.44$, а значит для $n > 10^6$, по ЗБЧ, тоже будет получаться значение экспериментальной вероятности, равное $0.44$.\n",
    "Проверим это, увеличив количество испытаний в два раза."
   ]
  },
  {
   "cell_type": "code",
   "execution_count": 148,
   "metadata": {},
   "outputs": [
    {
     "name": "stdout",
     "output_type": "stream",
     "text": [
      "Вероятность равна 0.44\n",
      "Истинная вероятность равна 0.4375\n"
     ]
    }
   ],
   "source": [
    "n2_lab3 = 2*(10**6)\n",
    "random.seed(a=54, version=2)\n",
    "prob2_lab3 = []\n",
    "k_success2_lab3 = 0\n",
    "for i in range(n2_lab3):\n",
    "    result_exp = np.random.uniform(0.0, 1.0, 2)\n",
    "    if abs(result_exp[1]-result_exp[0]) < 1/4:\n",
    "        k_success2_lab3 += 1\n",
    "    prob2_lab3.append(k_success2_lab3/(i+1))\n",
    "print('Вероятность равна',np.round(k_success2_lab3/n2_lab3, 2))\n",
    "print('Истинная вероятность равна',7/16)"
   ]
  },
  {
   "cell_type": "code",
   "execution_count": 149,
   "metadata": {},
   "outputs": [
    {
     "name": "stdout",
     "output_type": "stream",
     "text": [
      "[<matplotlib.lines.Line2D object at 0x000002958EDE18C8>]\n"
     ]
    },
    {
     "data": {
      "image/png": "[encoded data removed]",
      "text/plain": [
       "<Figure size 432x288 with 1 Axes>"
      ]
     },
     "metadata": {
      "needs_background": "light"
     },
     "output_type": "display_data"
    }
   ],
   "source": [
    "print(plt.plot(prob2_lab3[int(n2_lab3/2) :]))"
   ]
  },
  {
   "cell_type": "code",
   "execution_count": 150,
   "metadata": {},
   "outputs": [
    {
     "name": "stdout",
     "output_type": "stream",
     "text": [
      "0.44\n",
      "0.44\n"
     ]
    }
   ],
   "source": [
    "print(np.round(min(prob2_lab3[int(n2_lab3/2):]),2))\n",
    "print(np.round(max(prob2_lab3[int(n2_lab3/2):]),2))"
   ]
  },
  {
   "cell_type": "markdown",
   "metadata": {},
   "source": [
    "Предположения подтвердились: увелечив количество испытаний в два раза, мы получили экспериментальное значение вероятности, равное $0.44$, а, по графику, экспериментальная вероятность только больше и сильнее начала сходиться к истинной вероятности."
   ]
  },
  {
   "cell_type": "markdown",
   "metadata": {},
   "source": [
    "Таким образом, приближенное значение вероятности того, что $Р(|x-y|<\\frac{1}{4})$, равно $0.44$ (погрешность - два знака после запятой). Также было продемонстрировано, что это экспериментальное значение вероятности устойчиво: с увеличением количества испытаний в два раза результат не поменялся."
   ]
  }
 ],
 "metadata": {
  "kernelspec": {
   "display_name": "Python 3",
   "language": "python",
   "name": "python3"
  },
  "language_info": {
   "codemirror_mode": {
    "name": "ipython",
    "version": 3
   },
   "file_extension": ".py",
   "mimetype": "text/x-python",
   "name": "python",
   "nbconvert_exporter": "python",
   "pygments_lexer": "ipython3",
   "version": "3.7.4"
  }
 },
 "nbformat": 4,
 "nbformat_minor": 2
}
