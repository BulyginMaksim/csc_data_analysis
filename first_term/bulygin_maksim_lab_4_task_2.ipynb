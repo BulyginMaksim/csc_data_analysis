{
 "cells": [
  {
   "cell_type": "code",
   "execution_count": 1,
   "metadata": {},
   "outputs": [],
   "source": [
    "import numpy as np\n",
    "import pandas as pd\n",
    "import matplotlib\n",
    "import matplotlib.pyplot as plt\n",
    "matplotlib.style.use('ggplot')\n",
    "%matplotlib inline\n",
    "from scipy import stats\n",
    "import os"
   ]
  },
  {
   "cell_type": "markdown",
   "metadata": {},
   "source": [
    "Подключаем библиотеки."
   ]
  },
  {
   "cell_type": "code",
   "execution_count": 2,
   "metadata": {},
   "outputs": [],
   "source": [
    "os.chdir(r'C:\\Users\\ммм\\Desktop\\CSC\\Анализ данных\\Lect_11\\Задачи для лабораторной 4\\Unions and State Labor Law')\n",
    "data = pd.read_csv(\"Unions and State Labor Law_data.txt\", sep=\"\\t\")"
   ]
  },
  {
   "cell_type": "markdown",
   "metadata": {},
   "source": [
    "Задаем рабочую папку и импортируем данные. Заметим, что изначально данные были не очень хорошие - заголовок STATE был с отступом от начала строки. Это было исправлено вручную."
   ]
  },
  {
   "cell_type": "code",
   "execution_count": 3,
   "metadata": {},
   "outputs": [
    {
     "data": {
      "text/html": [
       "<div>\n",
       "<style scoped>\n",
       "    .dataframe tbody tr th:only-of-type {\n",
       "        vertical-align: middle;\n",
       "    }\n",
       "\n",
       "    .dataframe tbody tr th {\n",
       "        vertical-align: top;\n",
       "    }\n",
       "\n",
       "    .dataframe thead th {\n",
       "        text-align: right;\n",
       "    }\n",
       "</style>\n",
       "<table border=\"1\" class=\"dataframe\">\n",
       "  <thead>\n",
       "    <tr style=\"text-align: right;\">\n",
       "      <th></th>\n",
       "      <th>STATE</th>\n",
       "      <th>DENS</th>\n",
       "      <th>COMP</th>\n",
       "      <th>RTW</th>\n",
       "      <th>PVT</th>\n",
       "    </tr>\n",
       "  </thead>\n",
       "  <tbody>\n",
       "    <tr>\n",
       "      <td>0</td>\n",
       "      <td>NY</td>\n",
       "      <td>56.9</td>\n",
       "      <td>1</td>\n",
       "      <td>0</td>\n",
       "      <td>31.2</td>\n",
       "    </tr>\n",
       "    <tr>\n",
       "      <td>1</td>\n",
       "      <td>MI</td>\n",
       "      <td>49.6</td>\n",
       "      <td>1</td>\n",
       "      <td>0</td>\n",
       "      <td>30.2</td>\n",
       "    </tr>\n",
       "    <tr>\n",
       "      <td>2</td>\n",
       "      <td>WA</td>\n",
       "      <td>32.4</td>\n",
       "      <td>1</td>\n",
       "      <td>0</td>\n",
       "      <td>33.1</td>\n",
       "    </tr>\n",
       "    <tr>\n",
       "      <td>3</td>\n",
       "      <td>HI</td>\n",
       "      <td>54.6</td>\n",
       "      <td>1</td>\n",
       "      <td>0</td>\n",
       "      <td>24.7</td>\n",
       "    </tr>\n",
       "    <tr>\n",
       "      <td>4</td>\n",
       "      <td>AK</td>\n",
       "      <td>30.7</td>\n",
       "      <td>1</td>\n",
       "      <td>0</td>\n",
       "      <td>30.1</td>\n",
       "    </tr>\n",
       "  </tbody>\n",
       "</table>\n",
       "</div>"
      ],
      "text/plain": [
       "  STATE  DENS  COMP  RTW   PVT\n",
       "0    NY  56.9     1    0  31.2\n",
       "1    MI  49.6     1    0  30.2\n",
       "2    WA  32.4     1    0  33.1\n",
       "3    HI  54.6     1    0  24.7\n",
       "4    AK  30.7     1    0  30.1"
      ]
     },
     "execution_count": 3,
     "metadata": {},
     "output_type": "execute_result"
    }
   ],
   "source": [
    "data.head()"
   ]
  },
  {
   "cell_type": "code",
   "execution_count": 4,
   "metadata": {},
   "outputs": [
    {
     "name": "stdout",
     "output_type": "stream",
     "text": [
      "   STATE  DENS  COMP  RTW   PVT\n",
      "0     NY  56.9     1    0  31.2\n",
      "1     MI  49.6     1    0  30.2\n",
      "2     WA  32.4     1    0  33.1\n",
      "3     HI  54.6     1    0  24.7\n",
      "4     AK  30.7     1    0  30.1\n",
      "5     WV  30.2     0    0  28.5\n",
      "6     IL  30.6     0    0  26.9\n",
      "7     OR  35.1     1    0  25.5\n",
      "8     OH  38.4     1    0  25.3\n",
      "9     PA  46.2     1    0  23.6\n",
      "10    MO  26.1     0    0  26.7\n",
      "11    CA  32.9     1    0  23.8\n",
      "12    IN  28.6     0    0  24.4\n",
      "13    MN  43.5     1    0  20.7\n",
      "14    WI  44.8     1    0  20.3\n",
      "15    NV  38.0     0    1  19.4\n",
      "16    MT  25.0     1    0  20.7\n",
      "17    IO  35.0     1    1  16.9\n",
      "18    KY  32.8     0    0  17.5\n",
      "19    DE  50.6     1    0  14.2\n",
      "20    NJ  31.6     1    0  17.5\n",
      "21    MA  52.5     1    0  14.4\n",
      "22    RI  61.1     1    0  12.1\n",
      "23    CT  51.6     1    0  14.1\n",
      "24    MD  32.4     0    0  14.3\n",
      "25    ME  47.7     1    0  11.2\n",
      "26    AL  32.4     0    1  14.2\n",
      "27    CO  32.1     0    0  14.8\n",
      "28    TN  33.0     0    1  14.0\n",
      "29    UT  42.3     0    1   9.4\n",
      "30    NB  20.8     1    1  12.4\n",
      "31    ID  26.1     0    0  13.3\n",
      "32    WY  31.4     0    1  11.5\n",
      "33    ND  29.0     1    1   9.5\n",
      "34    LA  22.5     0    1  11.8\n",
      "35    AR  21.6     0    1  11.2\n",
      "36    OK  25.7     0    0   9.9\n",
      "37    NM  17.4     0    0  11.2\n",
      "38    AZ  24.0     0    1  10.1\n",
      "39    GA  19.6     0    1  11.0\n",
      "40    TX  27.3     0    1   9.6\n",
      "41    NH  41.4     1    0   7.5\n",
      "42    KS  22.9     1    1   9.2\n",
      "43    VT  37.3     1    0   6.5\n",
      "44    VA  20.1     0    1   8.1\n",
      "45    SD  23.1     1    1   6.2\n",
      "46    FL  21.4     1    1   7.2\n",
      "47    MS  13.4     0    1   8.1\n",
      "48    NC  28.6     0    1   4.6\n",
      "49    SC  13.7     1    1   3.9\n"
     ]
    }
   ],
   "source": [
    "print(data)"
   ]
  },
  {
   "cell_type": "markdown",
   "metadata": {},
   "source": [
    "Убеждаемся, что с данными все в порядке."
   ]
  },
  {
   "cell_type": "code",
   "execution_count": 5,
   "metadata": {},
   "outputs": [],
   "source": [
    "x = data[data['COMP'] == 0]['DENS']\n",
    "y = data[data['COMP'] == 1]['DENS']"
   ]
  },
  {
   "cell_type": "markdown",
   "metadata": {},
   "source": [
    "Задача выполняется для первого варианта, поэтому будем сравнивать процент муниципальных служащих в штатах, где на них распространяется закон State bargaining law (далее в лабораторной работе будем называть y) и в штатах, где на них не распространяется закон (далее в лабораторной работе будем называть x)."
   ]
  },
  {
   "cell_type": "code",
   "execution_count": 6,
   "metadata": {},
   "outputs": [
    {
     "data": {
      "image/png": "[encoded data removed]",
      "text/plain": [
       "<Figure size 432x288 with 1 Axes>"
      ]
     },
     "metadata": {
      "needs_background": "light"
     },
     "output_type": "display_data"
    }
   ],
   "source": [
    "plt.hist(x, bins=5);"
   ]
  },
  {
   "cell_type": "markdown",
   "metadata": {},
   "source": [
    "Распределение для x похоже на нормальное. Проверим гипотезу о нормальности распределения критерием Шапиро-Уилка."
   ]
  },
  {
   "cell_type": "code",
   "execution_count": 7,
   "metadata": {},
   "outputs": [
    {
     "data": {
      "text/plain": [
       "0.943257212638855"
      ]
     },
     "execution_count": 7,
     "metadata": {},
     "output_type": "execute_result"
    }
   ],
   "source": [
    "stats.shapiro(x)[1]"
   ]
  },
  {
   "cell_type": "markdown",
   "metadata": {},
   "source": [
    "p-value оказался больше уровня значимости $\\alpha = 0.05$, поэтому не отвергаем гипотезу о нормальности распределения x."
   ]
  },
  {
   "cell_type": "code",
   "execution_count": 10,
   "metadata": {},
   "outputs": [
    {
     "data": {
      "image/png": "[encoded data removed]",
      "text/plain": [
       "<Figure size 432x288 with 1 Axes>"
      ]
     },
     "metadata": {
      "needs_background": "light"
     },
     "output_type": "display_data"
    }
   ],
   "source": [
    "x_1 = np.linspace(np.min(x), np.max(x), 300)\n",
    "pd.Series(x).hist(bins=5, density=1)\n",
    "plt.plot(x_1, stats.norm.pdf(x_1, np.mean(x), np.std(x)));"
   ]
  },
  {
   "cell_type": "code",
   "execution_count": 11,
   "metadata": {},
   "outputs": [
    {
     "data": {
      "image/png": "[encoded data removed]",
      "text/plain": [
       "<Figure size 432x288 with 1 Axes>"
      ]
     },
     "metadata": {
      "needs_background": "light"
     },
     "output_type": "display_data"
    }
   ],
   "source": [
    "plt.hist(y, bins=6);"
   ]
  },
  {
   "cell_type": "markdown",
   "metadata": {},
   "source": [
    "Для y, аналогично, распределение похоже на нормальное. Проверим гипотезу о нормальности критерием Шапиро-Уилка."
   ]
  },
  {
   "cell_type": "code",
   "execution_count": 12,
   "metadata": {},
   "outputs": [
    {
     "data": {
      "text/plain": [
       "0.7401027679443359"
      ]
     },
     "execution_count": 12,
     "metadata": {},
     "output_type": "execute_result"
    }
   ],
   "source": [
    "stats.shapiro(y)[1]"
   ]
  },
  {
   "cell_type": "markdown",
   "metadata": {},
   "source": [
    "p-value оказался больше уровня значимости  $𝛼=0.05$ , поэтому не отвергаем гипотезу о нормальности распределения y."
   ]
  },
  {
   "cell_type": "code",
   "execution_count": 14,
   "metadata": {},
   "outputs": [
    {
     "data": {
      "text/plain": [
       "[<matplotlib.lines.Line2D at 0x1c6f9f5be48>]"
      ]
     },
     "execution_count": 14,
     "metadata": {},
     "output_type": "execute_result"
    },
    {
     "data": {
      "image/png": "[encoded data removed]",
      "text/plain": [
       "<Figure size 432x288 with 1 Axes>"
      ]
     },
     "metadata": {
      "needs_background": "light"
     },
     "output_type": "display_data"
    }
   ],
   "source": [
    "y_1 = np.linspace(np.min(y), np.max(y), 300)\n",
    "pd.Series(y).hist(bins=6, density=1)\n",
    "plt.plot(y_1, stats.norm.pdf(y_1, np.mean(y), np.std(y)))"
   ]
  },
  {
   "cell_type": "markdown",
   "metadata": {},
   "source": [
    "По смыслу задачи, так как распределения x и y нормальные, мы имеем право выдвенуть следующую нулевую гипотезу: средний процент служащих в штатах с принятым законом State bargaining law равен среднему процентe служащих в штатах, где данный закон не принят.\n",
    "Другими словами, проверим гипотезу о равенстве средних значений x и y. Также, дополнительно проверим гипотезу о равенстве дисперсий значений x и y критерием Флингера-Килина."
   ]
  },
  {
   "cell_type": "code",
   "execution_count": 15,
   "metadata": {},
   "outputs": [
    {
     "name": "stdout",
     "output_type": "stream",
     "text": [
      "0.0008111406933692372\n",
      "0.0022863939638667475\n",
      "27.660869565217393\n",
      "38.14074074074074\n"
     ]
    }
   ],
   "source": [
    "print(stats.ttest_ind(x,y)[1])\n",
    "print(stats.fligner(x,y)[1])\n",
    "print(np.mean(x))\n",
    "print(np.mean(y))"
   ]
  },
  {
   "cell_type": "markdown",
   "metadata": {},
   "source": [
    "Таким образом, в обоих критериях p-value оказался значительно меньше уровня значимости $\\alpha = 0.05$, поэтому отвергаем гипотезу о равенстве средних x и y и отвергаем гипотезу о равенстве дисперсий x и y.\n",
    "Другими словами, в штатах, где принят закон State bargaining law, средниц процент государственных служащих больше, чем средний процент государственных служащих в штатах, где этого закона нет - проиллюстрировано ящиковой диагремме снизу."
   ]
  },
  {
   "cell_type": "code",
   "execution_count": 16,
   "metadata": {},
   "outputs": [
    {
     "data": {
      "image/png": "[encoded data removed]",
      "text/plain": [
       "<Figure size 432x288 with 1 Axes>"
      ]
     },
     "metadata": {
      "needs_background": "light"
     },
     "output_type": "display_data"
    }
   ],
   "source": [
    "bp = data.boxplot(column='DENS', by='COMP')\n",
    "bp.get_figure().suptitle('');"
   ]
  },
  {
   "cell_type": "markdown",
   "metadata": {},
   "source": [
    "Вывод: в ходе лабораторной работы было выяснено, что в США в 1982 году на рынке труда в области государственной службы наблюдалась следующая тенденция - в штатах, где был установлен закон State bargaining law, было больше государственных служащих чем в штатах, где этого закона не было, о чем свидетельствует ящиковая диаграмма."
   ]
  }
 ],
 "metadata": {
  "kernelspec": {
   "display_name": "Python 3",
   "language": "python",
   "name": "python3"
  },
  "language_info": {
   "codemirror_mode": {
    "name": "ipython",
    "version": 3
   },
   "file_extension": ".py",
   "mimetype": "text/x-python",
   "name": "python",
   "nbconvert_exporter": "python",
   "pygments_lexer": "ipython3",
   "version": "3.7.4"
  }
 },
 "nbformat": 4,
 "nbformat_minor": 2
}
