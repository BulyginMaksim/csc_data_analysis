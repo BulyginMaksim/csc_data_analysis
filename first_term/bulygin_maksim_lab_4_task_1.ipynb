{
 "cells": [
  {
   "cell_type": "code",
   "execution_count": 1,
   "metadata": {},
   "outputs": [],
   "source": [
    "import numpy as np\n",
    "import pandas as pd\n",
    "import matplotlib\n",
    "import matplotlib.pyplot as plt\n",
    "matplotlib.style.use('ggplot')\n",
    "%matplotlib inline\n",
    "from scipy import stats\n",
    "import os"
   ]
  },
  {
   "cell_type": "markdown",
   "metadata": {},
   "source": [
    "Подключаем библиотеки."
   ]
  },
  {
   "cell_type": "code",
   "execution_count": 2,
   "metadata": {},
   "outputs": [],
   "source": [
    "os.chdir(r'C:\\Users\\ммм\\Desktop\\CSC\\Анализ данных\\Lect_11\\Задачи для лабораторной 4\\Nursing Home Data')\n",
    "data = pd.read_excel(\"nursing home data edited.xlsx\")"
   ]
  },
  {
   "cell_type": "markdown",
   "metadata": {},
   "source": [
    "Задаем рабочую папку и импортируем данные. Заметим, что изначально с данными нельзя было работать - столбцы были не на одном уровне, разные отступы. Поэтому была выполнена обработка данных, после чего данные были записаны в файл \"nursing home data edited.xlsx\"."
   ]
  },
  {
   "cell_type": "code",
   "execution_count": 3,
   "metadata": {},
   "outputs": [
    {
     "data": {
      "text/html": [
       "<div>\n",
       "<style scoped>\n",
       "    .dataframe tbody tr th:only-of-type {\n",
       "        vertical-align: middle;\n",
       "    }\n",
       "\n",
       "    .dataframe tbody tr th {\n",
       "        vertical-align: top;\n",
       "    }\n",
       "\n",
       "    .dataframe thead th {\n",
       "        text-align: right;\n",
       "    }\n",
       "</style>\n",
       "<table border=\"1\" class=\"dataframe\">\n",
       "  <thead>\n",
       "    <tr style=\"text-align: right;\">\n",
       "      <th></th>\n",
       "      <th>BED</th>\n",
       "      <th>MCDAYS</th>\n",
       "      <th>TDAYS</th>\n",
       "      <th>PCREV</th>\n",
       "      <th>NSAL</th>\n",
       "      <th>FEXP</th>\n",
       "      <th>RURAL</th>\n",
       "    </tr>\n",
       "  </thead>\n",
       "  <tbody>\n",
       "    <tr>\n",
       "      <td>0</td>\n",
       "      <td>244</td>\n",
       "      <td>128</td>\n",
       "      <td>385</td>\n",
       "      <td>23521</td>\n",
       "      <td>5230</td>\n",
       "      <td>5334</td>\n",
       "      <td>0</td>\n",
       "    </tr>\n",
       "    <tr>\n",
       "      <td>1</td>\n",
       "      <td>59</td>\n",
       "      <td>155</td>\n",
       "      <td>203</td>\n",
       "      <td>9160</td>\n",
       "      <td>2459</td>\n",
       "      <td>493</td>\n",
       "      <td>1</td>\n",
       "    </tr>\n",
       "    <tr>\n",
       "      <td>2</td>\n",
       "      <td>120</td>\n",
       "      <td>281</td>\n",
       "      <td>392</td>\n",
       "      <td>21900</td>\n",
       "      <td>6304</td>\n",
       "      <td>6115</td>\n",
       "      <td>0</td>\n",
       "    </tr>\n",
       "    <tr>\n",
       "      <td>3</td>\n",
       "      <td>120</td>\n",
       "      <td>291</td>\n",
       "      <td>419</td>\n",
       "      <td>22354</td>\n",
       "      <td>6590</td>\n",
       "      <td>6346</td>\n",
       "      <td>0</td>\n",
       "    </tr>\n",
       "    <tr>\n",
       "      <td>4</td>\n",
       "      <td>120</td>\n",
       "      <td>238</td>\n",
       "      <td>363</td>\n",
       "      <td>17421</td>\n",
       "      <td>5362</td>\n",
       "      <td>6225</td>\n",
       "      <td>0</td>\n",
       "    </tr>\n",
       "  </tbody>\n",
       "</table>\n",
       "</div>"
      ],
      "text/plain": [
       "   BED  MCDAYS  TDAYS  PCREV  NSAL  FEXP  RURAL\n",
       "0  244     128    385  23521  5230  5334      0\n",
       "1   59     155    203   9160  2459   493      1\n",
       "2  120     281    392  21900  6304  6115      0\n",
       "3  120     291    419  22354  6590  6346      0\n",
       "4  120     238    363  17421  5362  6225      0"
      ]
     },
     "execution_count": 3,
     "metadata": {},
     "output_type": "execute_result"
    }
   ],
   "source": [
    "data.head()"
   ]
  },
  {
   "cell_type": "code",
   "execution_count": 4,
   "metadata": {},
   "outputs": [
    {
     "name": "stdout",
     "output_type": "stream",
     "text": [
      "    BED  MCDAYS  TDAYS  PCREV  NSAL  FEXP  RURAL\n",
      "0   244     128    385  23521  5230  5334      0\n",
      "1    59     155    203   9160  2459   493      1\n",
      "2   120     281    392  21900  6304  6115      0\n",
      "3   120     291    419  22354  6590  6346      0\n",
      "4   120     238    363  17421  5362  6225      0\n",
      "5    65     180    234  10531  3622   449      1\n",
      "6   120     306    372  22147  4406  4998      1\n",
      "7    90     214    305  14025  4173   966      1\n",
      "8    96     155    169   8812  1955  1260      0\n",
      "9   120     133    188  11729  3224  6442      1\n",
      "10   62     148    192   8896  2409  1236      0\n",
      "11  120     274    426  20987  2066  3360      1\n",
      "12  116     154    321  17655  5946  4231      0\n",
      "13   59     120    164   7085  1925  1280      1\n",
      "14   80     261    284  13089  4166  1123      1\n",
      "15  120     338    375  21453  5257  5206      1\n",
      "16   80      77    133   7790  1988  4443      1\n",
      "17  100     204    318  18309  4156  4585      1\n",
      "18   60      97    213   8872  1914  1675      1\n",
      "19  110     178    280  17881  5173  5686      1\n",
      "20  120     232    336  17004  4630   907      0\n",
      "21  135     316    442  23829  7489  3351      0\n",
      "22   59     163    191   9424  2051  1756      1\n",
      "23   60      96    202  12474  3803  2123      0\n",
      "24   25      74     83   4078  2008  4531      1\n",
      "25  221     514    776  36029  1288  2543      1\n",
      "26   64      91    214   8782  4729  4446      1\n",
      "27   62     146    204   8951  2367  1064      0\n",
      "28  108     255    366  17446  5933  2987      1\n",
      "29   62     144    220   6164  2782   411      1\n",
      "30   90     151    286   2853  4651  4197      0\n",
      "31  146     100    375  21334  6857  1198      0\n",
      "32   62     174    189   8082  2143  1209      1\n",
      "33   30      54     88   3948  3025   137      1\n",
      "34   79     213    278  11649  2905  1279      0\n",
      "35   44     127    158   7850  1498  1273      1\n",
      "36  120     208    423  29035  6236  3524      0\n",
      "37  100     255    300  17532  3547  2561      1\n",
      "38   49     110    177   8197  2810  3874      1\n",
      "39  123     208    336  22555  6059  6402      1\n",
      "40   82     114    136   8459  1995  1911      1\n",
      "41   58     166    205  10412  2245  1122      1\n",
      "42  110     228    323  16661  4029  3893      1\n",
      "43   62     183    222  12406  2784  2212      1\n",
      "44   86      62    200  11312  3720  2959      1\n",
      "45  102     326    355  14499  3866  3006      1\n",
      "46  135     157    471  24274  7485  1344      0\n",
      "47   78     154    203   9327  3672  1242      1\n",
      "48   83     224    390  12362  3995  1484      1\n",
      "49   60      48    213  10644  2820  1154      0\n",
      "50   54     119    144   7556  2088   245      1\n",
      "51  120     217    327  20182  4432  6274      0\n"
     ]
    }
   ],
   "source": [
    "print(data)"
   ]
  },
  {
   "cell_type": "markdown",
   "metadata": {},
   "source": [
    "Убеждаемся, что с данными все в порядке."
   ]
  },
  {
   "cell_type": "code",
   "execution_count": 5,
   "metadata": {},
   "outputs": [],
   "source": [
    "x = data[data['RURAL'] == 0]['NSAL']\n",
    "y = data[data['RURAL'] == 1]['NSAL']"
   ]
  },
  {
   "cell_type": "markdown",
   "metadata": {},
   "source": [
    "Задача выполняется для первого варианта, поэтому будем сравнивать годовой оклад медсестер в городских больницах (далее в лабораторной работе x) и загородных больницах (далее в лабораторной работе y)."
   ]
  },
  {
   "cell_type": "code",
   "execution_count": 6,
   "metadata": {},
   "outputs": [
    {
     "data": {
      "image/png": "[encoded data removed]",
      "text/plain": [
       "<Figure size 432x288 with 1 Axes>"
      ]
     },
     "metadata": {
      "needs_background": "light"
     },
     "output_type": "display_data"
    }
   ],
   "source": [
    "plt.hist(x, bins=6);"
   ]
  },
  {
   "cell_type": "markdown",
   "metadata": {},
   "source": [
    "Проверим гипотезу о нормальности распределения x критерием Шапиро-Уилка."
   ]
  },
  {
   "cell_type": "code",
   "execution_count": 7,
   "metadata": {},
   "outputs": [
    {
     "data": {
      "text/plain": [
       "0.26659053564071655"
      ]
     },
     "execution_count": 7,
     "metadata": {},
     "output_type": "execute_result"
    }
   ],
   "source": [
    "stats.shapiro(x)[1]"
   ]
  },
  {
   "cell_type": "markdown",
   "metadata": {},
   "source": [
    "p-value оказался больше уровня значимости  $\\alpha = 0.05$ , поэтому не отвергаем гипотезу о нормальности распределения x."
   ]
  },
  {
   "cell_type": "code",
   "execution_count": 8,
   "metadata": {},
   "outputs": [
    {
     "data": {
      "image/png": "[encoded data removed]",
      "text/plain": [
       "<Figure size 432x288 with 1 Axes>"
      ]
     },
     "metadata": {
      "needs_background": "light"
     },
     "output_type": "display_data"
    }
   ],
   "source": [
    "x_1 = np.linspace(np.min(x), np.max(x), 300)\n",
    "pd.Series(x).hist(bins=6, density=1)\n",
    "plt.plot(x_1, stats.norm.pdf(x_1, np.mean(x), np.std(x)));"
   ]
  },
  {
   "cell_type": "code",
   "execution_count": 9,
   "metadata": {},
   "outputs": [
    {
     "data": {
      "image/png": "[encoded data removed]",
      "text/plain": [
       "<Figure size 432x288 with 1 Axes>"
      ]
     },
     "metadata": {
      "needs_background": "light"
     },
     "output_type": "display_data"
    }
   ],
   "source": [
    "plt.hist(y, bins=7);"
   ]
  },
  {
   "cell_type": "markdown",
   "metadata": {},
   "source": [
    "Для y, аналогично, распределение похоже на нормальное. Проверим гипотезу о нормальности критерием Шапиро-Уилка."
   ]
  },
  {
   "cell_type": "code",
   "execution_count": 10,
   "metadata": {},
   "outputs": [
    {
     "data": {
      "text/plain": [
       "0.0717819407582283"
      ]
     },
     "execution_count": 10,
     "metadata": {},
     "output_type": "execute_result"
    }
   ],
   "source": [
    "stats.shapiro(y)[1]"
   ]
  },
  {
   "cell_type": "markdown",
   "metadata": {},
   "source": [
    "p-value оказался больше уровня значимости $𝛼=0.05$, поэтому не отвергаем гипотезу о нормальности распределения y."
   ]
  },
  {
   "cell_type": "code",
   "execution_count": 11,
   "metadata": {},
   "outputs": [
    {
     "data": {
      "image/png": "[encoded data removed]",
      "text/plain": [
       "<Figure size 432x288 with 1 Axes>"
      ]
     },
     "metadata": {
      "needs_background": "light"
     },
     "output_type": "display_data"
    }
   ],
   "source": [
    "y_1 = np.linspace(np.min(y), np.max(y), 300)\n",
    "pd.Series(y).hist(bins=7, density=1)\n",
    "plt.plot(y_1, stats.norm.pdf(y_1, np.mean(y), np.std(y)));"
   ]
  },
  {
   "cell_type": "markdown",
   "metadata": {},
   "source": [
    "По смыслу задачи, так как распределения x и y нормальные, мы имеем право выдвенуть следующую нулевую гипотезу: средний годовой оклад медсестер в городских больницах и больницах за городом равен. Другими словами, проверим гипотезу о равенстве средних значений x и y. Также, дополнительно проверим гипотезу о равенстве дисперсий значений x и y критерием Флингера-Килина."
   ]
  },
  {
   "cell_type": "code",
   "execution_count": 12,
   "metadata": {},
   "outputs": [
    {
     "name": "stdout",
     "output_type": "stream",
     "text": [
      "0.0005409523097389856\n",
      "0.05254860862708049\n",
      "4859.5\n",
      "3258.705882352941\n"
     ]
    }
   ],
   "source": [
    "print(stats.ttest_ind(x,y)[1])\n",
    "print(stats.fligner(x,y)[1])\n",
    "print(np.mean(x))\n",
    "print(np.mean(y))"
   ]
  },
  {
   "cell_type": "markdown",
   "metadata": {},
   "source": [
    "Таким образом, в критерии равенства средних p-value оказался значительно меньше уровня значимости  $\\alpha = 0.05$, поэтому отвергаем гипотезу о равенстве средних x и y, в критерии Флингера-Килина о равенстве дисперсий p-value чуть больше уровня значимости $\\alpha = 0.05$, поэтому не отвергаем гипотезу о равенстве дисперсий x и y.\n",
    "Другими словами, средний годовой оклад медсестер в городе больше, чем средний годовой оклад медсестер за городом - проиллюстрировано на ящиковой диаграмме снизу."
   ]
  },
  {
   "cell_type": "code",
   "execution_count": 13,
   "metadata": {},
   "outputs": [
    {
     "data": {
      "image/png": "[encoded data removed]",
      "text/plain": [
       "<Figure size 432x288 with 1 Axes>"
      ]
     },
     "metadata": {
      "needs_background": "light"
     },
     "output_type": "display_data"
    }
   ],
   "source": [
    "bp = data.boxplot(column='NSAL', by='RURAL')\n",
    "bp.get_figure().suptitle('');"
   ]
  },
  {
   "cell_type": "markdown",
   "metadata": {},
   "source": [
    "Вывод: в ходе лабораторной работы была выявлена следующая тенденция в годовом окладе медсестер: средний годовой оклад медсестры в городской больнице больше, чем средний годовой оклад медсестры в больнице, расположенной за городом, о чем свидетельствует ящиковая диаграмма."
   ]
  }
 ],
 "metadata": {
  "kernelspec": {
   "display_name": "Python 3",
   "language": "python",
   "name": "python3"
  },
  "language_info": {
   "codemirror_mode": {
    "name": "ipython",
    "version": 3
   },
   "file_extension": ".py",
   "mimetype": "text/x-python",
   "name": "python",
   "nbconvert_exporter": "python",
   "pygments_lexer": "ipython3",
   "version": "3.7.4"
  }
 },
 "nbformat": 4,
 "nbformat_minor": 2
}
